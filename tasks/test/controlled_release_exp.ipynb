{
 "cells": [
  {
   "cell_type": "markdown",
   "metadata": {},
   "source": [
    "# 导入必要的库"
   ]
  },
  {
   "cell_type": "code",
   "execution_count": 1,
   "metadata": {},
   "outputs": [],
   "source": [
    "# 添加项目 PYTHONPATH\n",
    "import sys\n",
    "import os\n",
    "current_dir = os.path.abspath(\"\")\n",
    "\n",
    "project_root = os.path.abspath(os.path.join(current_dir,\"../../\"))\n",
    "\n",
    "sys.path.append(project_root)"
   ]
  },
  {
   "cell_type": "code",
   "execution_count": 2,
   "metadata": {},
   "outputs": [],
   "source": [
    "import numpy as np\n",
    "from matplotlib import pyplot as plt\n",
    "from osgeo import gdal\n",
    "\n",
    "import time\n",
    "import math\n",
    "import tempfile\n",
    "\n",
    "from methane_retrieval_algorithms import matchedfilter as mf\n",
    "from methane_retrieval_algorithms import columnwise_matchedfilter as cmf\n",
    "from methane_retrieval_algorithms import ml_matchedfilter as mlmf\n",
    "from methane_retrieval_algorithms import columnwise_ml_matchedfilter as cmlmf\n",
    "\n",
    "from utils import satellites_data as sd\n",
    "from utils import generate_radiance_lut_and_uas as glut"
   ]
  },
  {
   "cell_type": "code",
   "execution_count": 3,
   "metadata": {},
   "outputs": [],
   "source": [
    "# 基于IME算法进行排放量的估算\n",
    "def emission_estimate(plume_array, pixel_resolution, windspeed_10m, slope, intercept, enhancement_unit='ppmm'):\n",
    "    # calculate the area and the length of the plume\n",
    "    nan_count = np.count_nonzero(~np.isnan(plume_array))\n",
    "    pixel_area = math.pow(pixel_resolution, 2)\n",
    "    plume_area = nan_count * pixel_area\n",
    "    plume_length = math.sqrt(plume_area)\n",
    "    # get the values of the plume\n",
    "    plume_values = [value for value in plume_array.flatten() if value != -9999]\n",
    "    if enhancement_unit == 'ppmm':\n",
    "        # convert the unit from  ppm*m to kg/ppm*m, then calculate the integrated mass enhancement\n",
    "        integrated_mass_enhancement = sum(plume_values) * 0.716 * 0.000001 * pixel_area\n",
    "    elif enhancement_unit == 'ppm':\n",
    "        # convert the unit from  ppm*m to kg/ppm by setting 8km as the scale of troposphere,\n",
    "        # then calculate the integrated mass enhancement\n",
    "        integrated_mass_enhancement = sum(plume_values) * 0.716 * 0.000001 * pixel_area * 8000\n",
    "    else:\n",
    "        print(\"The unit of the enhancement is not supported, please enter 'ppmm' or 'ppm'.\")\n",
    "    # calculate the effective windspeed with the formula\n",
    "    effective_windspeed = slope * windspeed_10m + intercept\n",
    "    # calculate the emission rate of the plume in the unit of kg/h\n",
    "    emission_rate = (effective_windspeed * 3600 * integrated_mass_enhancement) / plume_length\n",
    "    return emission_rate\n"
   ]
  },
  {
   "cell_type": "markdown",
   "metadata": {},
   "source": [
    "# 控制释放试验 "
   ]
  },
  {
   "cell_type": "markdown",
   "metadata": {},
   "source": [
    "# PRISMA 数据\n"
   ]
  },
  {
   "cell_type": "markdown",
   "metadata": {},
   "source": [
    "## 影像浓度反演"
   ]
  },
  {
   "cell_type": "code",
   "execution_count": null,
   "metadata": {},
   "outputs": [],
   "source": [
    "def PRISMA_retrieval(filepath):\n",
    "    # 读取PRISMA数据\n",
    "    _,radiance_cube = sd.PRISMA_data.get_prisma_bands_array(filepath,2150,2500)\n",
    "    # 读取PRISMA数据的SZA和高度\n",
    "    sza,altitude = sd.PRISMA_data.get_SZA_altitude(filepath)\n",
    "    if altitude > 5:\n",
    "        altitude = 5\n",
    "    # 生成PRISMA的单位吸收谱\n",
    "    _,initial_uas = glut.generate_satellite_uas_for_specific_range_from_lut(\"PRISMA\",0,10000,2150,2500,sza,altitude)\n",
    "    uas_list,transmittance_list = mlmf.generate_uas_transmittance_list(\"PRISMA\",sza,altitude)\n",
    "\n",
    "    # 原始匹配滤波算法结果\n",
    "    mf_enhancement = mf.matched_filter(radiance_cube,initial_uas,True,True,False)\n",
    "    cmf_enhancement = cmf.columnwise_matched_filter(radiance_cube,initial_uas,True,True,False,5)\n",
    "    \n",
    "    # 多层匹配滤波算法结果\n",
    "    mlmf_enhancement = mlmf.ml_matched_filter(radiance_cube,initial_uas,uas_list,transmittance_list,True,True,False)\n",
    "    cmlmf_enhancement = cmlmf.columnwise_ml_matched_filter(radiance_cube,initial_uas,uas_list,transmittance_list,True,True,False,5)\n",
    "    \n",
    "    # 结果导出为 tiff\n",
    "    mf_output = filepath.replace(\".he5\",\"_mf.tif\")\n",
    "    sd.PRISMA_data.location_calibration(mf_enhancement,filepath,mf_output)\n",
    "    cmf_output = filepath.replace(\".he5\",\"_cmf.tif\")\n",
    "    sd.PRISMA_data.location_calibration(cmf_enhancement,filepath,cmf_output)\n",
    "    mlmf_output = filepath.replace(\".he5\",\"_mlmf.tif\")\n",
    "    sd.PRISMA_data.location_calibration(mlmf_enhancement,filepath,mlmf_output)\n",
    "    cmlmf_output = filepath.replace(\".he5\",\"_cmlmf.tif\")\n",
    "    sd.PRISMA_data.location_calibration(cmlmf_enhancement,filepath,cmlmf_output)\n",
    "    \n",
    "    \n",
    "    # 定义函数计算95%分位数内的直方图和统计信息\n",
    "    # def plot_histogram_and_stats(array, label):\n",
    "    #     # 展开数组并计算95%分位数范围\n",
    "    #     data = array.flatten()\n",
    "    #     lower = np.percentile(data, 2.5)\n",
    "    #     upper = np.percentile(data, 97.5)\n",
    "        \n",
    "    #     # 过滤出95%分位数范围内的数据\n",
    "    #     filtered_data = data[(data >= lower) & (data <= upper)]\n",
    "        \n",
    "    #     # 绘制直方图\n",
    "    #     plt.hist(filtered_data, bins=100, alpha=0.5, label=f'{label} (95% range)', edgecolor='black')\n",
    "        \n",
    "    #     # 计算统计信息\n",
    "    #     mean = np.mean(filtered_data)\n",
    "    #     std = np.std(filtered_data)\n",
    "    #     print(f\"{label} Stats:\")\n",
    "    #     print(f\"Mean: {mean:.2f}, Std: {std:.2f}, Min: {filtered_data.min():.2f}, Max: {filtered_data.max():.2f}\")\n",
    "        \n",
    "    # # 绘制两个数组的直方图对比\n",
    "    # plt.figure(figsize=(10, 6))\n",
    "\n",
    "    # plot_histogram_and_stats(mf_enhancement, 'Array 1')\n",
    "    # plot_histogram_and_stats(cmf_enhancement, 'Array 2')\n",
    "\n",
    "    # # 设置图例与标题\n",
    "    # plt.legend()\n",
    "    # plt.title('95% Percentile Range Histogram Comparison')\n",
    "    # plt.xlabel('Value')\n",
    "    # plt.ylabel('Frequency')\n",
    "    # plt.show()\n",
    "\n",
    "    \n",
    "    \n",
    "    # return mf_enhancement,cmf_enhancement,mlmf_enhancement\n",
    "\n",
    "\n",
    "filepath =[ \"/home/emeric/Documents/stanford/PRISMA/PRS_L1_STD_OFFL_20221130180952_20221130180956_0001.he5\",\n",
    "           \"/home/emeric/Documents/stanford/PRISMA/PRS_L1_STD_OFFL_20221107181309_20221107181313_0001.he5\"]\n",
    "\n",
    "for path in filepath:\n",
    "    start_time = time.time()\n",
    "    PRISMA_retrieval(path)\n",
    "    finish_time = time.time()\n",
    "    print(\"Time cost: \",finish_time-start_time)"
   ]
  },
  {
   "cell_type": "markdown",
   "metadata": {},
   "source": [
    "## 烟羽排放速率反演"
   ]
  },
  {
   "cell_type": "code",
   "execution_count": null,
   "metadata": {},
   "outputs": [],
   "source": [
    "# 量化排放\n",
    "plume_path = r\"C:\\Users\\RS\\Desktop\\plumes\\gf5_mf.tif\"\n",
    "plume_data = sd.general_functions.read_tiff_in_numpy(plume_path)\n",
    "plume_data[plume_data == -3.4028231e+38] = np.nan\n",
    "print(np.nanmax(plume_data))\n",
    "fluxrate = emission_estimate(plume_data[plume_data >0],30,2.1274,1,0,\"ppmm\")\n",
    "print(fluxrate/1000/8)"
   ]
  },
  {
   "cell_type": "markdown",
   "metadata": {},
   "source": [
    "# GF5B 数据"
   ]
  },
  {
   "cell_type": "markdown",
   "metadata": {},
   "source": [
    "## 影像浓度增强反演"
   ]
  },
  {
   "cell_type": "code",
   "execution_count": null,
   "metadata": {},
   "outputs": [
    {
     "name": "stdout",
     "output_type": "stream",
     "text": [
      "SZA: 52.831959\n",
      "Time cost:  117.65633916854858\n"
     ]
    }
   ],
   "source": [
    "def AHSI_test():\n",
    "    filepath = \"/home/emeric/Documents/stanford/GF5B/GF5B_AHSI_W112.1_N32.8_20221115_006332_L10000239663_VNSW_Rad.dat\"\n",
    "    _,radiance_cube = sd.GF5B_data.get_AHSI_radiances_from_dat(filepath,2150,2500)\n",
    "    sza,altitude = sd.GF5B_data.get_sza_altitude_from_dat(filepath)\n",
    "    if altitude > 5:\n",
    "        altitude = 5\n",
    "    _,initial_uas = glut.generate_satellite_uas_for_specific_range_from_lut(\"AHSI\",0,10000,2150,2500,sza,altitude)\n",
    "    uas_list ,transmittance_list = mlmf.generate_uas_transmittance_list(\"AHSI\",sza,altitude)\n",
    "\n",
    "    # 原始匹配滤波算法结果测试\n",
    "    mf_enhancement = mf.matched_filter(radiance_cube,initial_uas, True, True,False)\n",
    "    cmf_enhancement = cmf.columnwise_matched_filter(radiance_cube,initial_uas, True, True,False, 5)\n",
    "    mf_output = \"/home/emeric/Documents/stanford/GF5B/GF5B_AHSI_W112.1_N32.8_20221115_006332_L10000239663_mf.tif\"\n",
    "    rpc_correct(mf_enhancement, filepath, mf_output)\n",
    "    cmf_output = \"/home/emeric/Documents/stanford/GF5B/GF5B_AHSI_W112.1_N32.8_20221115_006332_L10000239663_cmf.tif\"\n",
    "    rpc_correct(cmf_enhancement, filepath, cmf_output)\n",
    "    # 多层匹配滤波算法结果测试\n",
    "    mlmf_enhancement = mlmf.ml_matched_filter(radiance_cube, initial_uas, uas_list, transmittance_list, True, False,False)\n",
    "    cmlmf_enhancement = cmlmf.columnwise_ml_matched_filter(radiance_cube, initial_uas, uas_list, transmittance_list, True, False,False, 5)\n",
    "    mlmf_output = \"/home/emeric/Documents/stanford/GF5B/GF5B_AHSI_W112.1_N32.8_20221115_006332_L10000239663_mlmf.tif\"\n",
    "    cmlmf_output = \"/home/emeric/Documents/stanford/GF5B/GF5B_AHSI_W112.1_N32.8_20221115_006332_L10000239663_cmlmf.tif\"\n",
    "    rpc_correct(mlmf_enhancement, filepath, mlmf_output)\n",
    "    rpc_correct(cmlmf_enhancement, filepath, cmlmf_output)\n",
    "    \n",
    "\n",
    "    return None\n",
    "\n",
    "def rpc_correct(result_array, filepath, corrected_file):\n",
    "    # 打开原始影像文件\n",
    "    original_dataset = gdal.Open(filepath)\n",
    "\n",
    "    rpc_info = original_dataset.GetMetadata(\"RPC\")\n",
    "\n",
    "    # 创建一个临时文件来存储结果数组\n",
    "    temp_file = tempfile.NamedTemporaryFile(suffix=\".tif\").name\n",
    "    driver = gdal.GetDriverByName(\"GTiff\")\n",
    "    output_dataset = driver.Create(temp_file, result_array.shape[1], result_array.shape[0], 1, gdal.GDT_Float32)\n",
    "\n",
    "    # 将结果数组写入临时影像\n",
    "    output_band = output_dataset.GetRasterBand(1)\n",
    "    output_band.WriteArray(result_array)\n",
    "    output_band.FlushCache()\n",
    "\n",
    "    # 设置临时影像的地理信息\n",
    "    output_dataset.SetProjection(original_dataset.GetProjection())\n",
    "    output_dataset.SetGeoTransform(original_dataset.GetGeoTransform())\n",
    "\n",
    "    # 将RPC信息写入临时文件的元数据\n",
    "    output_dataset.SetMetadata(rpc_info, \"RPC\")\n",
    "\n",
    "    # 关闭并保存临时影像文件\n",
    "    output_dataset = None\n",
    "\n",
    "    # 使用 WarpOptions 并从临时文件路径进行校正\n",
    "    warp_options = gdal.WarpOptions(rpc=True)\n",
    "    gdal.Warp(corrected_file, temp_file, options=warp_options)\n",
    "\n",
    "# 获取反演结果\n",
    "start_time = time.time()\n",
    "AHSI_test()\n",
    "end_time = time.time()  \n",
    "print(\"Time cost: \",end_time-start_time)"
   ]
  },
  {
   "cell_type": "markdown",
   "metadata": {},
   "source": [
    "## 烟羽排放速率反演"
   ]
  },
  {
   "cell_type": "code",
   "execution_count": null,
   "metadata": {},
   "outputs": [],
   "source": [
    "\n",
    "# 量化排放速率\n",
    "plume_path = r\"C:\\Users\\RS\\Desktop\\plumes\\gf5_mf.tif\"\n",
    "plume_data = sd.general_functions.read_tiff_in_numpy(plume_path)\n",
    "plume_data[plume_data == -3.4028231e+38] = np.nan\n",
    "print(np.nanmax(plume_data))\n",
    "fluxrate = emission_estimate(plume_data[plume_data >0],30,0.8656,1,0,\"ppmm\")\n",
    "print(fluxrate/1000/8)\n"
   ]
  },
  {
   "cell_type": "markdown",
   "metadata": {},
   "source": [
    "# EnMAP数据"
   ]
  },
  {
   "cell_type": "markdown",
   "metadata": {},
   "source": [
    "## 影像浓度增强反演"
   ]
  },
  {
   "cell_type": "code",
   "execution_count": 18,
   "metadata": {},
   "outputs": [
    {
     "name": "stdout",
     "output_type": "stream",
     "text": [
      "File saved successfully at /home/emeric/Documents/stanford/EnMAP/ENMAP01-____L1B-DT0000005368_20221116T184050Z_005_V010501_20241017T040610Z/ENMAP01-____L1B-DT0000005368_20221116T184050Z_005_V010501_20241017T040610Z-SPECTRAL_IMAGE_SWIR_mf.tif\n",
      "File saved successfully at /home/emeric/Documents/stanford/EnMAP/ENMAP01-____L1B-DT0000005368_20221116T184050Z_005_V010501_20241017T040610Z/ENMAP01-____L1B-DT0000005368_20221116T184050Z_005_V010501_20241017T040610Z-SPECTRAL_IMAGE_SWIR_cmf.tif\n",
      "File saved successfully at /home/emeric/Documents/stanford/EnMAP/ENMAP01-____L1B-DT0000005368_20221116T184050Z_005_V010501_20241017T040610Z/ENMAP01-____L1B-DT0000005368_20221116T184050Z_005_V010501_20241017T040610Z-SPECTRAL_IMAGE_SWIR_mlmf.tif\n",
      "File saved successfully at /home/emeric/Documents/stanford/EnMAP/ENMAP01-____L1B-DT0000005368_20221116T184050Z_005_V010501_20241017T040610Z/ENMAP01-____L1B-DT0000005368_20221116T184050Z_005_V010501_20241017T040610Z-SPECTRAL_IMAGE_SWIR_cmlmf.tif\n",
      "Time cost:  48.402235984802246\n",
      "File saved successfully at /home/emeric/Documents/stanford/EnMAP/ENMAP01-____L1B-DT0000005368_20221116T184050Z_005_V010501_20241017T042058Z/ENMAP01-____L1B-DT0000005368_20221116T184050Z_005_V010501_20241017T042058Z-SPECTRAL_IMAGE_SWIR_mf.tif\n",
      "File saved successfully at /home/emeric/Documents/stanford/EnMAP/ENMAP01-____L1B-DT0000005368_20221116T184050Z_005_V010501_20241017T042058Z/ENMAP01-____L1B-DT0000005368_20221116T184050Z_005_V010501_20241017T042058Z-SPECTRAL_IMAGE_SWIR_cmf.tif\n",
      "File saved successfully at /home/emeric/Documents/stanford/EnMAP/ENMAP01-____L1B-DT0000005368_20221116T184050Z_005_V010501_20241017T042058Z/ENMAP01-____L1B-DT0000005368_20221116T184050Z_005_V010501_20241017T042058Z-SPECTRAL_IMAGE_SWIR_mlmf.tif\n",
      "File saved successfully at /home/emeric/Documents/stanford/EnMAP/ENMAP01-____L1B-DT0000005368_20221116T184050Z_005_V010501_20241017T042058Z/ENMAP01-____L1B-DT0000005368_20221116T184050Z_005_V010501_20241017T042058Z-SPECTRAL_IMAGE_SWIR_cmlmf.tif\n",
      "Time cost:  48.39684224128723\n"
     ]
    }
   ],
   "source": [
    "# ! 需要修改\n",
    "def EnMAP_test(filepath):\n",
    "    _,radiance_cube = sd.EnMAP_data.get_enmap_bands_array(filepath,2150,2500)\n",
    "    sza,_ = sd.EnMAP_data.get_SZA_altitude(filepath)\n",
    "    altitude = 0\n",
    "    if altitude > 5:\n",
    "        altitude = 5\n",
    "    _,initial_uas = glut.generate_satellite_uas_for_specific_range_from_lut(\"EnMAP\",0,10000,2150,2500,sza,altitude)\n",
    "    uas_list,transmittance_list = mlmf.generate_uas_transmittance_list(\"EnMAP\",sza,altitude)\n",
    "    \n",
    "    # 原始匹配滤波算法结果测试\n",
    "    mf_enhancement = mf.matched_filter(radiance_cube,initial_uas, True, True,False)\n",
    "    cmf_enhancement = cmf.columnwise_matched_filter(radiance_cube,initial_uas, True, True,False,5)\n",
    "    # 多层匹配滤波算法结果测试\n",
    "    mlmf_enhancement = mlmf.ml_matched_filter(radiance_cube,initial_uas, uas_list, transmittance_list, True, True,False)\n",
    "    cmlmf_enhancement = cmlmf.columnwise_ml_matched_filter(radiance_cube,initial_uas, uas_list, transmittance_list, True, True,False,5)\n",
    "    \n",
    "    mf_enhancement_new = np.zeros(mf_enhancement.shape)\n",
    "    mf_enhancement_new[25:,3:] = mf_enhancement[:-25,:-3]\n",
    "    \n",
    "    cmf_enhancement_new = np.zeros(cmf_enhancement.shape)\n",
    "    cmf_enhancement_new[25:,3:] = cmf_enhancement[:-25,:-3]\n",
    "    \n",
    "    mlmf_enhancement_new = np.zeros(mlmf_enhancement.shape)\n",
    "    mlmf_enhancement_new[25:,3:] = mlmf_enhancement[:-25,:-3]\n",
    "    \n",
    "    cmlmf_enhancement_new = np.zeros(cmlmf_enhancement.shape)\n",
    "    cmlmf_enhancement_new[25:,3:] = cmlmf_enhancement[:-25,:-3]\n",
    "    \n",
    "    output_folder = os.path.dirname(filepath)\n",
    "    filename = os.path.basename(filepath)\n",
    "    sd.EnMAP_data.export_enmap_array_to_tiff(mf_enhancement_new,filepath,output_folder, filename.replace(\".TIF\",\"_mf.tif\"))\n",
    "    sd.EnMAP_data.export_enmap_array_to_tiff(cmf_enhancement_new,filepath,output_folder,filename.replace(\".TIF\",\"_cmf.tif\"))\n",
    "    sd.EnMAP_data.export_enmap_array_to_tiff(mlmf_enhancement_new,filepath,output_folder,filename.replace(\".TIF\",\"_mlmf.tif\"))\n",
    "    sd.EnMAP_data.export_enmap_array_to_tiff(cmlmf_enhancement_new,filepath,output_folder,filename.replace(\".TIF\",\"_cmlmf.tif\"))\n",
    "    \n",
    "    \n",
    "    return None\n",
    "filepath = [ \"/home/emeric/Documents/stanford/EnMAP/ENMAP01-____L1B-DT0000005368_20221116T184050Z_005_V010501_20241017T040610Z/ENMAP01-____L1B-DT0000005368_20221116T184050Z_005_V010501_20241017T040610Z-SPECTRAL_IMAGE_SWIR.TIF\"\n",
    "            ,\"/home/emeric/Documents/stanford/EnMAP/ENMAP01-____L1B-DT0000005368_20221116T184050Z_005_V010501_20241017T042058Z/ENMAP01-____L1B-DT0000005368_20221116T184050Z_005_V010501_20241017T042058Z-SPECTRAL_IMAGE_SWIR.TIF\",]\n",
    "for path in filepath:\n",
    "    start_time = time.time()\n",
    "    EnMAP_test(path)\n",
    "    end_time = time.time()\n",
    "    print(\"Time cost: \",end_time-start_time)\n"
   ]
  },
  {
   "cell_type": "code",
   "execution_count": null,
   "metadata": {},
   "outputs": [],
   "source": [
    "# 量化排放\n",
    "plume_path = r\"C:\\Users\\RS\\Desktop\\plumes\\enmap_mf.tif\"\n",
    "plume_data = sd.general_functions.read_tiff_in_numpy(plume_path)\n",
    "plume_data[plume_data == -3.4028231e+38] = np.nan\n",
    "print(np.nanmax(plume_data))\n",
    "fluxrate = emission_estimate(plume_data[plume_data >0],30,1,1,0,\"ppmm\")\n",
    "print(fluxrate/8000)\n"
   ]
  },
  {
   "cell_type": "markdown",
   "metadata": {},
   "source": [
    "# ZY1 数据"
   ]
  },
  {
   "cell_type": "code",
   "execution_count": 7,
   "metadata": {},
   "outputs": [
    {
     "name": "stdout",
     "output_type": "stream",
     "text": [
      "SZA: 46.971901\n",
      "Time cost:  75.4787118434906\n"
     ]
    }
   ],
   "source": [
    "def ZY1_test(filepath):\n",
    "    # 读取ZY1数据\n",
    "    _,radiance_cube = sd.ZY1_data.get_ZY1_radiances_from_dat(filepath,2150,2500)\n",
    "    # 读取ZY1数据的SZA和高度\n",
    "    sza,altitude = sd.ZY1_data.get_sza_altitude(filepath)\n",
    "    if altitude > 5:\n",
    "        altitude = 5\n",
    "    # 构建单位吸收谱\n",
    "    _,initial_uas = glut.generate_satellite_uas_for_specific_range_from_lut(\"ZY1\",0,5000,2150,2500,sza,altitude)\n",
    "    uas_list,transmittance_list = mlmf.generate_uas_transmittance_list(\"ZY1\",sza,altitude)\n",
    "    # 原始匹配滤波算法结果测试\n",
    "    mf_enhancement = mf.matched_filter(radiance_cube,initial_uas, True, True,False)\n",
    "    cmf_enhancement = cmf.columnwise_matched_filter(radiance_cube,initial_uas, True, True,False,1)\n",
    "    # 多层匹配滤波算法结果测试\n",
    "    mlmf_enhancement = mlmf.ml_matched_filter(radiance_cube,initial_uas, uas_list,transmittance_list,True, True,False)\n",
    "    cmlmf_enhancement = cmlmf.columnwise_ml_matched_filter(radiance_cube,initial_uas, uas_list,transmittance_list,True, True,False)\n",
    "    # 结果导出为 tiff\n",
    "    mf_output = filepath.replace(\".dat\",\"_mf.tif\")\n",
    "    rpc_correct(mf_enhancement, filepath, mf_output)\n",
    "    cmf_output = filepath.replace(\".dat\",\"_cmf.tif\")\n",
    "    rpc_correct(cmf_enhancement, filepath, cmf_output)\n",
    "    mlmf_output = filepath.replace(\".dat\",\"_mlmf.tif\")\n",
    "    rpc_correct(mlmf_enhancement, filepath, mlmf_output)\n",
    "    cmlmf_output = filepath.replace(\".dat\",\"_cmlmf.tif\")\n",
    "    rpc_correct(cmlmf_enhancement, filepath, cmlmf_output)\n",
    "    return None\n",
    "\n",
    "def rpc_correct(result_array, filepath, corrected_file):\n",
    "    # 打开原始影像文件\n",
    "    original_dataset = gdal.Open(filepath)\n",
    "\n",
    "    rpc_info = original_dataset.GetMetadata(\"RPC\")\n",
    "\n",
    "    # 创建一个临时文件来存储结果数组\n",
    "    temp_file = tempfile.NamedTemporaryFile(suffix=\".tif\").name\n",
    "    driver = gdal.GetDriverByName(\"GTiff\")\n",
    "    output_dataset = driver.Create(temp_file, result_array.shape[1], result_array.shape[0], 1, gdal.GDT_Float32)\n",
    "\n",
    "    # 将结果数组写入临时影像\n",
    "    output_band = output_dataset.GetRasterBand(1)\n",
    "    output_band.WriteArray(result_array)\n",
    "    output_band.FlushCache()\n",
    "\n",
    "    # 设置临时影像的地理信息\n",
    "    output_dataset.SetProjection(original_dataset.GetProjection())\n",
    "    output_dataset.SetGeoTransform(original_dataset.GetGeoTransform())\n",
    "\n",
    "    # 将RPC信息写入临时文件的元数据\n",
    "    output_dataset.SetMetadata(rpc_info, \"RPC\")\n",
    "\n",
    "    # 关闭并保存临时影像文件\n",
    "    output_dataset = None\n",
    "\n",
    "    # 使用 WarpOptions 并从临时文件路径进行校正\n",
    "    warp_options = gdal.WarpOptions(rpc=True)\n",
    "    gdal.Warp(corrected_file, temp_file, options=warp_options)\n",
    "\n",
    "\n",
    "filepath = [\"/home/emeric/Documents/stanford/ZY1/ZY1F_AHSI_W111.72_N33.06_20221026_004370_L1A0000265656_VNSW_Rad.dat\"]\n",
    "\n",
    "for file in filepath:\n",
    "    start_time = time.time()\n",
    "    ZY1_test(file)\n",
    "    end_time = time.time()\n",
    "    print(\"Time cost: \",end_time-start_time)\n",
    "   "
   ]
  },
  {
   "cell_type": "code",
   "execution_count": null,
   "metadata": {},
   "outputs": [],
   "source": [
    "# 量化排放\n",
    "plume_path = r\"C:\\Users\\RS\\Desktop\\plumes\\zy1_mf.tif\"\n",
    "plume_data = sd.general_functions.read_tiff_in_numpy(plume_path)\n",
    "print(np.nanmax(plume_data))\n",
    "fluxrate = emission_estimate(plume_data[plume_data >0],30,2.3443,1,0,\"ppmm\")\n",
    "print(fluxrate/8000)"
   ]
  }
 ],
 "metadata": {
  "kernelspec": {
   "display_name": "mf",
   "language": "python",
   "name": "python3"
  },
  "language_info": {
   "codemirror_mode": {
    "name": "ipython",
    "version": 3
   },
   "file_extension": ".py",
   "mimetype": "text/x-python",
   "name": "python",
   "nbconvert_exporter": "python",
   "pygments_lexer": "ipython3",
   "version": "3.11.10"
  }
 },
 "nbformat": 4,
 "nbformat_minor": 2
}
