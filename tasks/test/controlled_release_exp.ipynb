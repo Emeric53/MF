{
 "cells": [
  {
   "cell_type": "markdown",
   "metadata": {},
   "source": [
    "# 控制释放试验 "
   ]
  },
  {
   "cell_type": "code",
   "execution_count": 1,
   "metadata": {},
   "outputs": [],
   "source": [
    "import sys\n",
    "import time\n",
    "import numpy as np\n",
    "import matplotlib.pyplot as plt\n",
    "\n",
    "import math\n",
    "import os\n",
    "\n",
    "sys.path.append(\"C:\\\\Users\\\\RS\\\\VSCode\\\\matchedfiltermethod\")\n",
    "from methane_retrieval_algorithms.matchedfilter import matched_filter as mf\n",
    "from methane_retrieval_algorithms.columnwise_matchedfilter import columnwise_matched_filter as cmf\n",
    "from methane_retrieval_algorithms.ml_matchedfilter import ml_matched_filter as mlmf\n",
    "from methane_retrieval_algorithms.columnwise_ml_matchedfilter import columnwise_ml_matched_filter as cmlmf\n",
    "from utils import satellites_data as sd\n",
    "from utils import generate_radiance_lut_and_uas as glut\n",
    "\n"
   ]
  },
  {
   "cell_type": "code",
   "execution_count": null,
   "metadata": {},
   "outputs": [],
   "source": [
    "\n",
    "# 基于IME算法进行排放量的估算\n",
    "def emission_estimate(plume_array, pixel_resolution, windspeed_10m, slope, intercept, enhancement_unit='ppmm'):\n",
    "    # calculate the area and the length of the plume\n",
    "    nan_count = np.count_nonzero(~np.isnan(plume_array))\n",
    "    pixel_area = math.pow(pixel_resolution, 2)\n",
    "    plume_area = nan_count * pixel_area\n",
    "    plume_length = math.sqrt(plume_area)\n",
    "    # get the values of the plume\n",
    "    plume_values = [value for value in plume_array.flatten() if value != -9999]\n",
    "    if enhancement_unit == 'ppmm':\n",
    "        # convert the unit from  ppm*m to kg/ppm*m, then calculate the integrated mass enhancement\n",
    "        integrated_mass_enhancement = sum(plume_values) * 0.716 * 0.000001 * pixel_area\n",
    "    elif enhancement_unit == 'ppm':\n",
    "        # convert the unit from  ppm*m to kg/ppm by setting 8km as the scale of troposphere,\n",
    "        # then calculate the integrated mass enhancement\n",
    "        integrated_mass_enhancement = sum(plume_values) * 0.716 * 0.000001 * pixel_area * 8000\n",
    "    else:\n",
    "        print(\"The unit of the enhancement is not supported, please enter 'ppmm' or 'ppm'.\")\n",
    "    # calculate the effective windspeed with the formula\n",
    "    effective_windspeed = slope * windspeed_10m + intercept\n",
    "    # calculate the emission rate of the plume in the unit of kg/h\n",
    "    emission_rate = (effective_windspeed * 3600 * integrated_mass_enhancement) / plume_length\n",
    "    return emission_rate\n"
   ]
  },
  {
   "cell_type": "markdown",
   "metadata": {},
   "source": [
    "# PRISMA 数据\n"
   ]
  },
  {
   "cell_type": "markdown",
   "metadata": {},
   "source": [
    "## 影像浓度反演"
   ]
  },
  {
   "cell_type": "code",
   "execution_count": 8,
   "metadata": {},
   "outputs": [
    {
     "name": "stderr",
     "output_type": "stream",
     "text": [
      "c:\\Users\\RS\\.conda\\envs\\matchedfiltermethod\\Lib\\site-packages\\rasterio\\__init__.py:327: NotGeoreferencedWarning: Dataset has no geotransform, gcps, or rpcs. The identity matrix will be returned.\n",
      "  dataset = writer(\n"
     ]
    },
    {
     "name": "stdout",
     "output_type": "stream",
     "text": [
      "Time cost:  74.97908425331116\n"
     ]
    }
   ],
   "source": [
    "def PRISMA_retrieval(filepath):\n",
    "    _,radiance_cube = sd.PRISMA_data.get_prisma_bands_array(filepath,2150,2500)\n",
    "    sza,altitude = sd.PRISMA_data.get_SZA_altitude(filepath)\n",
    "    if altitude > 5:\n",
    "        altitude = 5\n",
    "    _,uas = glut.generate_satellite_uas_for_specific_range_from_lut(\"PRISMA\",0,50000,2150,2500,sza,altitude)\n",
    "\n",
    "    # 原始匹配滤波算法结果\n",
    "    mf_enhancement = mf(radiance_cube,uas,True,True,True)\n",
    "    cmf_enhancement = cmf(radiance_cube,uas,True,True,True,5)\n",
    "    \n",
    "    # 多层匹配滤波算法结果\n",
    "    # mlmf_enhancement = mlmf(radiance_cube,uas,\"PRISMA\",True,True,True)\n",
    "    \n",
    "    # 定义函数计算95%分位数内的直方图和统计信息\n",
    "    def plot_histogram_and_stats(array, label):\n",
    "        # 展开数组并计算95%分位数范围\n",
    "        data = array.flatten()\n",
    "        lower = np.percentile(data, 2.5)\n",
    "        upper = np.percentile(data, 97.5)\n",
    "        \n",
    "        # 过滤出95%分位数范围内的数据\n",
    "        filtered_data = data[(data >= lower) & (data <= upper)]\n",
    "        \n",
    "        # 绘制直方图\n",
    "        plt.hist(filtered_data, bins=100, alpha=0.5, label=f'{label} (95% range)', edgecolor='black')\n",
    "        \n",
    "        # 计算统计信息\n",
    "        mean = np.mean(filtered_data)\n",
    "        std = np.std(filtered_data)\n",
    "        print(f\"{label} Stats:\")\n",
    "        print(f\"Mean: {mean:.2f}, Std: {std:.2f}, Min: {filtered_data.min():.2f}, Max: {filtered_data.max():.2f}\")\n",
    "        \n",
    "    # # 绘制两个数组的直方图对比\n",
    "    # plt.figure(figsize=(10, 6))\n",
    "\n",
    "    # plot_histogram_and_stats(mf_enhancement, 'Array 1')\n",
    "    # plot_histogram_and_stats(cmf_enhancement, 'Array 2')\n",
    "\n",
    "    # # 设置图例与标题\n",
    "    # plt.legend()\n",
    "    # plt.title('95% Percentile Range Histogram Comparison')\n",
    "    # plt.xlabel('Value')\n",
    "    # plt.ylabel('Frequency')\n",
    "    # plt.show()\n",
    "\n",
    "    # 结果导出为 tiff\n",
    "    mf_output = filepath.replace(\".he5\",\"_mf.tif\")\n",
    "    sd.PRISMA_data.location_calibration(mf_enhancement,filepath,mf_output)\n",
    "    cmf_output = filepath.replace(\".he5\",\"_cmf.tif\")\n",
    "    sd.PRISMA_data.location_calibration(cmf_enhancement,filepath,cmf_output)\n",
    "    # mlmf_output = filepath.replace(\".tif\",\"_mlmf.tif\")\n",
    "    # sd.PRISMA_data.location_calibration(cmf_enhancement,filepath,mlmf_output)\n",
    "    # return mf_enhancement,cmf_enhancement,mlmf_enhancement\n",
    "\n",
    "\n",
    "filepath = \"J:\\stanford\\PRISMA\\PRS_L1_STD_OFFL_20221027182300_20221027182304_0001.he5\"\n",
    "filepath = \"J:\\stanford\\PRISMA\\PRS_L1_STD_OFFL_20221130180952_20221130180956_0001.he5\"\n",
    "start_time = time.time()\n",
    "PRISMA_retrieval(filepath)\n",
    "finish_time = time.time()\n",
    "print(\"Time cost: \",finish_time-start_time)"
   ]
  },
  {
   "cell_type": "markdown",
   "metadata": {},
   "source": [
    "## 烟羽排放速率反演"
   ]
  },
  {
   "cell_type": "code",
   "execution_count": null,
   "metadata": {},
   "outputs": [],
   "source": [
    "# 量化排放\n",
    "plume_path = r\"C:\\Users\\RS\\Desktop\\plumes\\gf5_mf.tif\"\n",
    "plume_data = sd.general_functions.read_tiff_in_numpy(plume_path)\n",
    "plume_data[plume_data == -3.4028231e+38] = np.nan\n",
    "print(np.nanmax(plume_data))\n",
    "fluxrate = emission_estimate(plume_data[plume_data >0],30,2.1274,1,0,\"ppmm\")\n",
    "print(fluxrate/1000/8)"
   ]
  },
  {
   "cell_type": "markdown",
   "metadata": {},
   "source": [
    "# AHSI 数据"
   ]
  },
  {
   "cell_type": "markdown",
   "metadata": {},
   "source": [
    "## 影像浓度增强反演"
   ]
  },
  {
   "cell_type": "code",
   "execution_count": 2,
   "metadata": {},
   "outputs": [
    {
     "name": "stdout",
     "output_type": "stream",
     "text": [
      "SZA: 52.831959\n",
      "File saved successfully at J:\\stanford\\GF5B\\GF5B_AHSI_W112.1_N32.8_20221115_006332_L10000239663_mf.tif\n",
      "File saved successfully at J:\\stanford\\GF5B\\GF5B_AHSI_W112.1_N32.8_20221115_006332_L10000239663_cmf.tif\n",
      "Time cost:  109.5164737701416\n"
     ]
    }
   ],
   "source": [
    "def AHSI_test():\n",
    "    filepath = \"J:\\stanford\\GF5B\\GF5B_AHSI_W112.1_N32.8_20221115_006332_L10000239663_VNSW_Rad.dat\"\n",
    "    _,radiance_cube = sd.GF5B_data.get_AHSI_radiances_from_dat(filepath,2150,2500)\n",
    "    sza,altitude = sd.GF5B_data.get_sza_altitude_from_dat(filepath)\n",
    "    if altitude > 5:\n",
    "        altitude = 5\n",
    "    _,uas = glut.generate_satellite_uas_for_specific_range_from_lut(\"AHSI\",0,50000,2150,2500,sza,altitude)\n",
    "\n",
    "    # 原始匹配滤波算法结果测试\n",
    "    mf_enhancement = mf(radiance_cube,uas, True, True,True)\n",
    "    cmf_enhancement = cmf(radiance_cube,uas, True, True,True, 5)\n",
    "    sd.general_functions.save_ndarray_to_tiff(mf_enhancement, \"J:\\stanford\\GF5B\\GF5B_AHSI_W112.1_N32.8_20221115_006332_L10000239663_mf.tif\")\n",
    "    sd.general_functions.save_ndarray_to_tiff(cmf_enhancement, \"J:\\stanford\\GF5B\\GF5B_AHSI_W112.1_N32.8_20221115_006332_L10000239663_cmf.tif\")\n",
    "    \n",
    "    # np.save(\"methane_enhancement.npy\",methane_enhancement)\n",
    "\n",
    "    # # 打开原始影像文件\n",
    "    # original_dataset = gdal.Open(filepath)\n",
    "\n",
    "    # rpc_info = original_dataset.GetMetadata(\"RPC\")\n",
    "\n",
    "    # # 创建一个临时文件来存储结果数组\n",
    "    # temp_file = tempfile.NamedTemporaryFile(suffix=\".tif\").name\n",
    "    # driver = gdal.GetDriverByName(\"GTiff\")\n",
    "    # output_dataset = driver.Create(temp_file, result_array.shape[1], result_array.shape[0], 1, gdal.GDT_Float32)\n",
    "\n",
    "    # # 将结果数组写入临时影像\n",
    "    # output_band = output_dataset.GetRasterBand(1)\n",
    "    # output_band.WriteArray(result_array)\n",
    "    # output_band.FlushCache()\n",
    "\n",
    "    # # 设置临时影像的地理信息\n",
    "    # output_dataset.SetProjection(original_dataset.GetProjection())\n",
    "    # output_dataset.SetGeoTransform(original_dataset.GetGeoTransform())\n",
    "\n",
    "    # # 将RPC信息写入临时文件的元数据\n",
    "    # output_dataset.SetMetadata(rpc_info, \"RPC\")\n",
    "\n",
    "    # # 关闭并保存临时影像文件\n",
    "    # output_dataset = None\n",
    "\n",
    "    # # 使用 WarpOptions 并从临时文件路径进行校正\n",
    "    # corrected_file = r\"I:\\stanford_campaign\\Stanford_Campaign_GF5-02-AHSI\\GF5B_AHSI_W112.1_N32.8_20221115_006332_L10000239663_VNSW_Rad_mlmf.tif\"\n",
    "    # warp_options = gdal.WarpOptions(rpc=True)\n",
    "    # gdal.Warp(corrected_file, temp_file, options=warp_options)\n",
    "\n",
    "    return mf_enhancement,cmf_enhancement\n",
    "\n",
    "# 获取反演结果\n",
    "start_time = time.time()\n",
    "mf_methane_enhancement,cmf_methane_enhancement = AHSI_test()\n",
    "end_time = time.time()  \n",
    "print(\"Time cost: \",end_time-start_time)"
   ]
  },
  {
   "cell_type": "markdown",
   "metadata": {},
   "source": [
    "## 烟羽排放速率反演"
   ]
  },
  {
   "cell_type": "code",
   "execution_count": null,
   "metadata": {},
   "outputs": [],
   "source": [
    "\n",
    "# 量化排放速率\n",
    "\n",
    "plume_path = r\"C:\\Users\\RS\\Desktop\\plumes\\gf5_mf.tif\"\n",
    "plume_data = sd.general_functions.read_tiff_in_numpy(plume_path)\n",
    "plume_data[plume_data == -3.4028231e+38] = np.nan\n",
    "print(np.nanmax(plume_data))\n",
    "fluxrate = emission_estimate(plume_data[plume_data >0],30,0.8656,1,0,\"ppmm\")\n",
    "print(fluxrate/1000/8)\n"
   ]
  },
  {
   "cell_type": "markdown",
   "metadata": {},
   "source": [
    "# EnMAP数据"
   ]
  },
  {
   "cell_type": "markdown",
   "metadata": {},
   "source": [
    "## 影像浓度增强反演"
   ]
  },
  {
   "cell_type": "code",
   "execution_count": 3,
   "metadata": {},
   "outputs": [
    {
     "name": "stdout",
     "output_type": "stream",
     "text": [
      "File saved successfully at J:\\stanford\\EnMAP\\ENMAP01-____L1B-DT0000005368_20221116T184046Z_004_V010501_20241017T040758Z\\ENMAP01-____L1B-DT0000005368_20221116T184046Z_004_V010501_20241017T040758Z-SPECTRAL_IMAGE_SWIR_mf.tif\n",
      "File saved successfully at J:\\stanford\\EnMAP\\ENMAP01-____L1B-DT0000005368_20221116T184046Z_004_V010501_20241017T040758Z\\ENMAP01-____L1B-DT0000005368_20221116T184046Z_004_V010501_20241017T040758Z-SPECTRAL_IMAGE_SWIR_cmf.tif\n",
      "Time cost:  32.045740365982056\n"
     ]
    }
   ],
   "source": [
    "# ! 需要修改\n",
    "def EnMAP_test():\n",
    "    filepath = r\"J:\\stanford\\EnMAP\\ENMAP01-____L1B-DT0000005368_20221116T184046Z_004_V010501_20241017T040758Z\\ENMAP01-____L1B-DT0000005368_20221116T184046Z_004_V010501_20241017T040758Z-SPECTRAL_IMAGE_SWIR.TIF\"\n",
    "    _,radiance_cube = sd.EnMAP_data.get_enmap_bands_array(filepath,2150,2500)\n",
    "    sza,_ = sd.EnMAP_data.get_SZA_altitude(filepath)\n",
    "    altitude = 0\n",
    "    if altitude > 5:\n",
    "        altitude = 5\n",
    "    _,uas = glut.generate_satellite_uas_for_specific_range_from_lut(\"EnMAP\",0,50000,2150,2500,sza,altitude)\n",
    "\n",
    "    # 原始匹配滤波算法结果测试\n",
    "    mf_enhancement = mf(radiance_cube,uas, True, True,True)\n",
    "    cmf_enhancement = cmf(radiance_cube,uas, True, True,True,5)\n",
    "    # 多层匹配滤波算法结果测试\n",
    "    # methane_enhancement_mlmf = mfs.ml_matched_filter_new(radiance_cube,uas, True)\n",
    "    \n",
    "    output_folder = os.path.dirname(filepath)\n",
    "    filename = os.path.basename(filepath)\n",
    "    # vnir =  r\"I:\\stanford_campaign\\EnMAP\\dims_op_oc_oc-en_701862725_1\\ENMAP.HSI.L1B\\ENMAP01-____L1B-DT0000005368_20221116T184050Z_005_V010501_20241017T042058Z\\ENMAP01-____L1B-DT0000005368_20221116T184050Z_005_V010501_20241017T042058Z-SPECTRAL_IMAGE_VNIR.TIF\"\n",
    "   \n",
    "    sd.EnMAP_data.export_enmap_array_to_tiff(mf_enhancement,filepath,output_folder, filename.replace(\".TIF\",\"_mf.tif\"))\n",
    "    sd.EnMAP_data.export_enmap_array_to_tiff(cmf_enhancement,filepath,output_folder,filename.replace(\".TIF\",\"_cmf.tif\"))\n",
    "    \n",
    "    return mf_enhancement,cmf_enhancement\n",
    "start_time = time.time()\n",
    "result = EnMAP_test()\n",
    "end_time = time.time()\n",
    "print(\"Time cost: \",end_time-start_time)\n"
   ]
  },
  {
   "cell_type": "code",
   "execution_count": null,
   "metadata": {},
   "outputs": [],
   "source": [
    "# 量化排放\n",
    "plume_path = r\"C:\\Users\\RS\\Desktop\\plumes\\enmap_mf.tif\"\n",
    "plume_data = sd.general_functions.read_tiff_in_numpy(plume_path)\n",
    "plume_data[plume_data == -3.4028231e+38] = np.nan\n",
    "print(np.nanmax(plume_data))\n",
    "fluxrate = emission_estimate(plume_data[plume_data >0],30,1,1,0,\"ppmm\")\n",
    "print(fluxrate/8000)\n"
   ]
  },
  {
   "cell_type": "markdown",
   "metadata": {},
   "source": [
    "# ZY1 数据"
   ]
  },
  {
   "cell_type": "code",
   "execution_count": 4,
   "metadata": {},
   "outputs": [
    {
     "ename": "AttributeError",
     "evalue": "module 'utils.satellites_data.ZY1_data' has no attribute 'get_AHSI_radiances_from_dat'",
     "output_type": "error",
     "traceback": [
      "\u001b[1;31m---------------------------------------------------------------------------\u001b[0m",
      "\u001b[1;31mAttributeError\u001b[0m                            Traceback (most recent call last)",
      "Cell \u001b[1;32mIn[4], line 57\u001b[0m\n\u001b[0;32m     54\u001b[0m filepath3\u001b[38;5;241m=\u001b[39m \u001b[38;5;124mr\u001b[39m\u001b[38;5;124m\"\u001b[39m\u001b[38;5;124mI:\u001b[39m\u001b[38;5;124m\\\u001b[39m\u001b[38;5;124mstanford_campaign\u001b[39m\u001b[38;5;124m\\\u001b[39m\u001b[38;5;124mStanford_Campaign_ZY1-02E-AHSI\u001b[39m\u001b[38;5;124m\\\u001b[39m\u001b[38;5;124mZY1F_AHSI_W111.85_N32.62_20221020_004284_L1A0000258234_VNSW_Rad.dat\u001b[39m\u001b[38;5;124m\"\u001b[39m\n\u001b[0;32m     56\u001b[0m start_time \u001b[38;5;241m=\u001b[39m time\u001b[38;5;241m.\u001b[39mtime()\n\u001b[1;32m---> 57\u001b[0m ZY1_test(filepath)\n\u001b[0;32m     58\u001b[0m ZY1_test(filepath2)\n\u001b[0;32m     59\u001b[0m ZY1_test(filepath3)\n",
      "Cell \u001b[1;32mIn[4], line 2\u001b[0m, in \u001b[0;36mZY1_test\u001b[1;34m(filepath)\u001b[0m\n\u001b[0;32m      1\u001b[0m \u001b[38;5;28;01mdef\u001b[39;00m \u001b[38;5;21mZY1_test\u001b[39m(filepath):\n\u001b[1;32m----> 2\u001b[0m     _,radiance_cube \u001b[38;5;241m=\u001b[39m sd\u001b[38;5;241m.\u001b[39mZY1_data\u001b[38;5;241m.\u001b[39mget_AHSI_radiances_from_dat(filepath,\u001b[38;5;241m2150\u001b[39m,\u001b[38;5;241m2500\u001b[39m)\n\u001b[0;32m      3\u001b[0m     sza,altitude \u001b[38;5;241m=\u001b[39m sd\u001b[38;5;241m.\u001b[39mZY1_data\u001b[38;5;241m.\u001b[39mget_sza_altitude(filepath)\n\u001b[0;32m      4\u001b[0m     \u001b[38;5;28;01mif\u001b[39;00m altitude \u001b[38;5;241m>\u001b[39m \u001b[38;5;241m5\u001b[39m:\n",
      "\u001b[1;31mAttributeError\u001b[0m: module 'utils.satellites_data.ZY1_data' has no attribute 'get_AHSI_radiances_from_dat'"
     ]
    }
   ],
   "source": [
    "def ZY1_test(filepath):\n",
    "    _,radiance_cube = sd.ZY1_data.get_AHSI_radiances_from_dat(filepath,2150,2500)\n",
    "    sza,altitude = sd.ZY1_data.get_sza_altitude(filepath)\n",
    "    if altitude > 5:\n",
    "        altitude = 5\n",
    "    _,uas = glut.generate_satellite_uas_for_specific_range_from_lut(\"ZY1\",0,50000,2150,2500,sza,altitude)\n",
    "\n",
    "    # 原始匹配滤波算法结果测试\n",
    "    mf_enhancement = mf(radiance_cube,uas, True, True,True)\n",
    "    cmf_enhancement = cmf(radiance_cube,uas, True, True,True,5)\n",
    "    # 多层匹配滤波算法结果测试\n",
    "    # methane_enhancement_mlmf = mfs.ml_matched_filter_new(radiance_cube,uas, True)\n",
    "    \n",
    "    # np.save(\"methane_enhancement.npy\",methane_enhancement)\n",
    "    \n",
    "    sd.general_functions.save_ndarray_to_tiff(mf_enhancement, \"C:\\\\Users\\\\RS\\\\Desktop\\\\hi\\\\ZY1_mf.tif\")\n",
    "    sd.general_functions.save_ndarray_to_tiff(cmf_enhancement, \"C:\\\\Users\\\\RS\\\\Desktop\\\\hi\\\\ZY1_cmf.tif\")\n",
    "    # 假设 result_array 是处理后的结果数组\n",
    "    # result_array = methane_enhancement\n",
    "\n",
    "    # # 打开原始影像文件\n",
    "    # original_dataset = gdal.Open(filepath)\n",
    "\n",
    "    # rpc_info = original_dataset.GetMetadata(\"RPC\")\n",
    "\n",
    "    # # 创建一个临时文件来存储结果数组\n",
    "    # temp_file = tempfile.NamedTemporaryFile(suffix=\".tif\").name\n",
    "    # driver = gdal.GetDriverByName(\"GTiff\")\n",
    "    # output_dataset = driver.Create(temp_file, result_array.shape[1], result_array.shape[0], 1, gdal.GDT_Float32)\n",
    "\n",
    "    # # 将结果数组写入临时影像\n",
    "    # output_band = output_dataset.GetRasterBand(1)\n",
    "    # output_band.WriteArray(result_array)\n",
    "    # output_band.FlushCache()\n",
    "\n",
    "    # # 设置临时影像的地理信息\n",
    "    # output_dataset.SetProjection(original_dataset.GetProjection())\n",
    "    # output_dataset.SetGeoTransform(original_dataset.GetGeoTransform())\n",
    "\n",
    "    # # 将RPC信息写入临时文件的元数据\n",
    "    # output_dataset.SetMetadata(rpc_info, \"RPC\")\n",
    "\n",
    "    # # 关闭并保存临时影像文件\n",
    "    # output_dataset = None\n",
    "\n",
    "    # # 使用 WarpOptions 并从临时文件路径进行校正\n",
    "    # corrected_file = r\"I:\\stanford_campaign\\Stanford_Campaign_ZY1-02E-AHSI\\ZY1F_AHSI_W111.72_N33.06_20221026_004370_L1A0000265656_VNSW_Rad_mf.tif\"\n",
    "    # warp_options = gdal.WarpOptions(rpc=True)\n",
    "    # gdal.Warp(corrected_file, temp_file, options=warp_options)\n",
    "    return mf_enhancement,cmf_enhancement\n",
    "\n",
    "filepath = r\"J:\\stanford\\ZY1\\ZY1F_AHSI_W111.72_N33.06_20221026_004370_L1A0000265656_VNSW_Rad.dat\"\n",
    "filepath2 = r\"I:\\stanford_campaign\\Stanford_Campaign_ZY1-02E-AHSI\\ZY1F_AHSI_W111.74_N33.06_20221023_004327_L1A0000261518_VNSW_Rad.dat\"\n",
    "filepath3= r\"I:\\stanford_campaign\\Stanford_Campaign_ZY1-02E-AHSI\\ZY1F_AHSI_W111.85_N32.62_20221020_004284_L1A0000258234_VNSW_Rad.dat\"\n",
    "    \n",
    "start_time = time.time()\n",
    "ZY1_test(filepath)\n",
    "ZY1_test(filepath2)\n",
    "ZY1_test(filepath3)\n",
    "end_time = time.time()\n",
    "print(\"Time cost: \",end_time-start_time)\n",
    "\n"
   ]
  },
  {
   "cell_type": "code",
   "execution_count": null,
   "metadata": {},
   "outputs": [],
   "source": [
    "# 量化排放\n",
    "plume_path = r\"C:\\Users\\RS\\Desktop\\plumes\\zy1_mf.tif\"\n",
    "plume_data = sd.general_functions.read_tiff_in_numpy(plume_path)\n",
    "print(np.nanmax(plume_data))\n",
    "fluxrate = emission_estimate(plume_data[plume_data >0],30,2.3443,1,0,\"ppmm\")\n",
    "print(fluxrate/8000)"
   ]
  }
 ],
 "metadata": {
  "kernelspec": {
   "display_name": "matchedfiltermethod",
   "language": "python",
   "name": "python3"
  },
  "language_info": {
   "codemirror_mode": {
    "name": "ipython",
    "version": 3
   },
   "file_extension": ".py",
   "mimetype": "text/x-python",
   "name": "python",
   "nbconvert_exporter": "python",
   "pygments_lexer": "ipython3",
   "version": "3.11.5"
  }
 },
 "nbformat": 4,
 "nbformat_minor": 2
}
