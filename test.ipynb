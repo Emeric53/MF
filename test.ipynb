{
 "cells": [
  {
   "cell_type": "code",
   "execution_count": 1,
   "id": "c05eb89b",
   "metadata": {
    "ExecuteTime": {
     "end_time": "2024-02-29T13:05:01.645841100Z",
     "start_time": "2024-02-29T11:57:17.145432700Z"
    }
   },
   "outputs": [
    {
     "name": "stderr",
     "output_type": "stream",
     "text": [
      "2024-02-29 19:57:19,292 INFO Welcome to the CDS\n",
      "2024-02-29 19:57:19,294 INFO Sending request to https://cds.climate.copernicus.eu/api/v2/resources/reanalysis-era5-single-levels\n",
      "2024-02-29 19:57:19,895 INFO Request is queued\n",
      "2024-02-29 20:02:12,681 WARNING Connection error: [HTTPSConnectionPool(host='cds.climate.copernicus.eu', port=443): Max retries exceeded with url: /api/v2/tasks/23f46d8c-3622-4d68-bbfa-bb502dfb32e9 (Caused by SSLError(SSLEOFError(8, '[SSL: UNEXPECTED_EOF_WHILE_READING] EOF occurred in violation of protocol (_ssl.c:1006)')))]. Attempt 1 of 500.\n",
      "2024-02-29 20:02:12,683 WARNING Retrying in 120 seconds\n",
      "2024-02-29 20:04:12,686 INFO Retrying now...\n",
      "2024-02-29 20:04:42,791 WARNING Connection error: [HTTPSConnectionPool(host='cds.climate.copernicus.eu', port=443): Max retries exceeded with url: /api/v2/tasks/23f46d8c-3622-4d68-bbfa-bb502dfb32e9 (Caused by SSLError(SSLEOFError(8, '[SSL: UNEXPECTED_EOF_WHILE_READING] EOF occurred in violation of protocol (_ssl.c:1006)')))]. Attempt 2 of 500.\n",
      "2024-02-29 20:04:42,793 WARNING Retrying in 120 seconds\n",
      "2024-02-29 20:06:42,795 INFO Retrying now...\n",
      "2024-02-29 20:07:12,889 WARNING Connection error: [HTTPSConnectionPool(host='cds.climate.copernicus.eu', port=443): Max retries exceeded with url: /api/v2/tasks/23f46d8c-3622-4d68-bbfa-bb502dfb32e9 (Caused by SSLError(SSLEOFError(8, '[SSL: UNEXPECTED_EOF_WHILE_READING] EOF occurred in violation of protocol (_ssl.c:1006)')))]. Attempt 3 of 500.\n",
      "2024-02-29 20:07:12,891 WARNING Retrying in 120 seconds\n",
      "2024-02-29 20:09:12,894 INFO Retrying now...\n",
      "2024-02-29 20:09:42,990 WARNING Connection error: [HTTPSConnectionPool(host='cds.climate.copernicus.eu', port=443): Max retries exceeded with url: /api/v2/tasks/23f46d8c-3622-4d68-bbfa-bb502dfb32e9 (Caused by SSLError(SSLEOFError(8, '[SSL: UNEXPECTED_EOF_WHILE_READING] EOF occurred in violation of protocol (_ssl.c:1006)')))]. Attempt 4 of 500.\n",
      "2024-02-29 20:09:42,991 WARNING Retrying in 120 seconds\n",
      "2024-02-29 20:11:42,994 INFO Retrying now...\n",
      "2024-02-29 20:12:13,104 WARNING Connection error: [HTTPSConnectionPool(host='cds.climate.copernicus.eu', port=443): Max retries exceeded with url: /api/v2/tasks/23f46d8c-3622-4d68-bbfa-bb502dfb32e9 (Caused by SSLError(SSLEOFError(8, '[SSL: UNEXPECTED_EOF_WHILE_READING] EOF occurred in violation of protocol (_ssl.c:1006)')))]. Attempt 5 of 500.\n",
      "2024-02-29 20:12:13,106 WARNING Retrying in 120 seconds\n",
      "2024-02-29 20:14:13,109 INFO Retrying now...\n",
      "2024-02-29 20:16:45,649 WARNING Connection error: [HTTPSConnectionPool(host='cds.climate.copernicus.eu', port=443): Max retries exceeded with url: /api/v2/tasks/23f46d8c-3622-4d68-bbfa-bb502dfb32e9 (Caused by SSLError(SSLEOFError(8, '[SSL: UNEXPECTED_EOF_WHILE_READING] EOF occurred in violation of protocol (_ssl.c:1006)')))]. Attempt 1 of 500.\n",
      "2024-02-29 20:16:45,652 WARNING Retrying in 120 seconds\n",
      "2024-02-29 20:18:45,654 INFO Retrying now...\n",
      "2024-02-29 20:19:15,739 WARNING Connection error: [HTTPSConnectionPool(host='cds.climate.copernicus.eu', port=443): Max retries exceeded with url: /api/v2/tasks/23f46d8c-3622-4d68-bbfa-bb502dfb32e9 (Caused by SSLError(SSLEOFError(8, '[SSL: UNEXPECTED_EOF_WHILE_READING] EOF occurred in violation of protocol (_ssl.c:1006)')))]. Attempt 2 of 500.\n",
      "2024-02-29 20:19:15,741 WARNING Retrying in 120 seconds\n",
      "2024-02-29 20:21:15,743 INFO Retrying now...\n",
      "2024-02-29 20:21:45,851 WARNING Connection error: [HTTPSConnectionPool(host='cds.climate.copernicus.eu', port=443): Max retries exceeded with url: /api/v2/tasks/23f46d8c-3622-4d68-bbfa-bb502dfb32e9 (Caused by SSLError(SSLEOFError(8, '[SSL: UNEXPECTED_EOF_WHILE_READING] EOF occurred in violation of protocol (_ssl.c:1006)')))]. Attempt 3 of 500.\n",
      "2024-02-29 20:21:45,853 WARNING Retrying in 120 seconds\n",
      "2024-02-29 20:23:45,855 INFO Retrying now...\n",
      "2024-02-29 20:24:15,957 WARNING Connection error: [HTTPSConnectionPool(host='cds.climate.copernicus.eu', port=443): Max retries exceeded with url: /api/v2/tasks/23f46d8c-3622-4d68-bbfa-bb502dfb32e9 (Caused by SSLError(SSLEOFError(8, '[SSL: UNEXPECTED_EOF_WHILE_READING] EOF occurred in violation of protocol (_ssl.c:1006)')))]. Attempt 4 of 500.\n",
      "2024-02-29 20:24:15,959 WARNING Retrying in 120 seconds\n",
      "2024-02-29 20:26:15,961 INFO Retrying now...\n",
      "2024-02-29 20:32:57,183 WARNING Connection error: [HTTPSConnectionPool(host='cds.climate.copernicus.eu', port=443): Max retries exceeded with url: /api/v2/tasks/23f46d8c-3622-4d68-bbfa-bb502dfb32e9 (Caused by SSLError(SSLEOFError(8, '[SSL: UNEXPECTED_EOF_WHILE_READING] EOF occurred in violation of protocol (_ssl.c:1006)')))]. Attempt 1 of 500.\n",
      "2024-02-29 20:32:57,185 WARNING Retrying in 120 seconds\n",
      "2024-02-29 20:34:57,187 INFO Retrying now...\n",
      "2024-02-29 20:35:27,291 WARNING Connection error: [HTTPSConnectionPool(host='cds.climate.copernicus.eu', port=443): Max retries exceeded with url: /api/v2/tasks/23f46d8c-3622-4d68-bbfa-bb502dfb32e9 (Caused by SSLError(SSLEOFError(8, '[SSL: UNEXPECTED_EOF_WHILE_READING] EOF occurred in violation of protocol (_ssl.c:1006)')))]. Attempt 2 of 500.\n",
      "2024-02-29 20:35:27,293 WARNING Retrying in 120 seconds\n",
      "2024-02-29 20:37:27,295 INFO Retrying now...\n",
      "2024-02-29 20:37:57,411 WARNING Connection error: [HTTPSConnectionPool(host='cds.climate.copernicus.eu', port=443): Max retries exceeded with url: /api/v2/tasks/23f46d8c-3622-4d68-bbfa-bb502dfb32e9 (Caused by SSLError(SSLEOFError(8, '[SSL: UNEXPECTED_EOF_WHILE_READING] EOF occurred in violation of protocol (_ssl.c:1006)')))]. Attempt 3 of 500.\n",
      "2024-02-29 20:37:57,413 WARNING Retrying in 120 seconds\n",
      "2024-02-29 20:39:57,415 INFO Retrying now...\n",
      "2024-02-29 20:40:27,530 WARNING Connection error: [HTTPSConnectionPool(host='cds.climate.copernicus.eu', port=443): Max retries exceeded with url: /api/v2/tasks/23f46d8c-3622-4d68-bbfa-bb502dfb32e9 (Caused by SSLError(SSLEOFError(8, '[SSL: UNEXPECTED_EOF_WHILE_READING] EOF occurred in violation of protocol (_ssl.c:1006)')))]. Attempt 4 of 500.\n",
      "2024-02-29 20:40:27,531 WARNING Retrying in 120 seconds\n",
      "2024-02-29 20:42:27,534 INFO Retrying now...\n",
      "2024-02-29 20:42:57,639 WARNING Connection error: [HTTPSConnectionPool(host='cds.climate.copernicus.eu', port=443): Max retries exceeded with url: /api/v2/tasks/23f46d8c-3622-4d68-bbfa-bb502dfb32e9 (Caused by SSLError(SSLEOFError(8, '[SSL: UNEXPECTED_EOF_WHILE_READING] EOF occurred in violation of protocol (_ssl.c:1006)')))]. Attempt 5 of 500.\n",
      "2024-02-29 20:42:57,641 WARNING Retrying in 120 seconds\n",
      "2024-02-29 20:44:57,643 INFO Retrying now...\n",
      "2024-02-29 20:45:27,760 WARNING Connection error: [HTTPSConnectionPool(host='cds.climate.copernicus.eu', port=443): Max retries exceeded with url: /api/v2/tasks/23f46d8c-3622-4d68-bbfa-bb502dfb32e9 (Caused by SSLError(SSLEOFError(8, '[SSL: UNEXPECTED_EOF_WHILE_READING] EOF occurred in violation of protocol (_ssl.c:1006)')))]. Attempt 6 of 500.\n",
      "2024-02-29 20:45:27,761 WARNING Retrying in 120 seconds\n",
      "2024-02-29 20:47:27,764 INFO Retrying now...\n",
      "2024-02-29 20:47:57,886 WARNING Connection error: [HTTPSConnectionPool(host='cds.climate.copernicus.eu', port=443): Max retries exceeded with url: /api/v2/tasks/23f46d8c-3622-4d68-bbfa-bb502dfb32e9 (Caused by SSLError(SSLEOFError(8, '[SSL: UNEXPECTED_EOF_WHILE_READING] EOF occurred in violation of protocol (_ssl.c:1006)')))]. Attempt 7 of 500.\n",
      "2024-02-29 20:47:57,887 WARNING Retrying in 120 seconds\n",
      "2024-02-29 20:49:57,890 INFO Retrying now...\n",
      "2024-02-29 20:50:28,386 WARNING Connection error: [HTTPSConnectionPool(host='cds.climate.copernicus.eu', port=443): Max retries exceeded with url: /api/v2/tasks/23f46d8c-3622-4d68-bbfa-bb502dfb32e9 (Caused by SSLError(SSLEOFError(8, '[SSL: UNEXPECTED_EOF_WHILE_READING] EOF occurred in violation of protocol (_ssl.c:1006)')))]. Attempt 8 of 500.\n",
      "2024-02-29 20:50:28,387 WARNING Retrying in 120 seconds\n",
      "2024-02-29 20:52:28,389 INFO Retrying now...\n",
      "2024-02-29 20:52:58,458 WARNING Connection error: [HTTPSConnectionPool(host='cds.climate.copernicus.eu', port=443): Max retries exceeded with url: /api/v2/tasks/23f46d8c-3622-4d68-bbfa-bb502dfb32e9 (Caused by SSLError(SSLEOFError(8, '[SSL: UNEXPECTED_EOF_WHILE_READING] EOF occurred in violation of protocol (_ssl.c:1006)')))]. Attempt 9 of 500.\n",
      "2024-02-29 20:52:58,460 WARNING Retrying in 120 seconds\n",
      "2024-02-29 20:54:58,462 INFO Retrying now...\n",
      "2024-02-29 20:55:28,572 WARNING Connection error: [HTTPSConnectionPool(host='cds.climate.copernicus.eu', port=443): Max retries exceeded with url: /api/v2/tasks/23f46d8c-3622-4d68-bbfa-bb502dfb32e9 (Caused by SSLError(SSLEOFError(8, '[SSL: UNEXPECTED_EOF_WHILE_READING] EOF occurred in violation of protocol (_ssl.c:1006)')))]. Attempt 10 of 500.\n",
      "2024-02-29 20:55:28,573 WARNING Retrying in 120 seconds\n",
      "2024-02-29 20:57:28,576 INFO Retrying now...\n",
      "2024-02-29 20:57:58,679 WARNING Connection error: [HTTPSConnectionPool(host='cds.climate.copernicus.eu', port=443): Max retries exceeded with url: /api/v2/tasks/23f46d8c-3622-4d68-bbfa-bb502dfb32e9 (Caused by SSLError(SSLEOFError(8, '[SSL: UNEXPECTED_EOF_WHILE_READING] EOF occurred in violation of protocol (_ssl.c:1006)')))]. Attempt 11 of 500.\n",
      "2024-02-29 20:57:58,680 WARNING Retrying in 120 seconds\n",
      "2024-02-29 20:59:58,682 INFO Retrying now...\n",
      "2024-02-29 21:00:28,795 WARNING Connection error: [HTTPSConnectionPool(host='cds.climate.copernicus.eu', port=443): Max retries exceeded with url: /api/v2/tasks/23f46d8c-3622-4d68-bbfa-bb502dfb32e9 (Caused by SSLError(SSLEOFError(8, '[SSL: UNEXPECTED_EOF_WHILE_READING] EOF occurred in violation of protocol (_ssl.c:1006)')))]. Attempt 12 of 500.\n",
      "2024-02-29 21:00:28,796 WARNING Retrying in 120 seconds\n",
      "2024-02-29 21:02:28,799 INFO Retrying now...\n",
      "2024-02-29 21:02:58,888 WARNING Connection error: [HTTPSConnectionPool(host='cds.climate.copernicus.eu', port=443): Max retries exceeded with url: /api/v2/tasks/23f46d8c-3622-4d68-bbfa-bb502dfb32e9 (Caused by SSLError(SSLEOFError(8, '[SSL: UNEXPECTED_EOF_WHILE_READING] EOF occurred in violation of protocol (_ssl.c:1006)')))]. Attempt 13 of 500.\n",
      "2024-02-29 21:02:58,889 WARNING Retrying in 120 seconds\n",
      "2024-02-29 21:04:58,892 INFO Retrying now...\n",
      "2024-02-29 21:05:00,870 INFO Request is failed\n",
      "2024-02-29 21:05:00,872 ERROR Message: Request not optimal, please check CDS forum for more info \n",
      "2024-02-29 21:05:00,873 ERROR Reason:  Request not optimal, please check CDS forum for more info\n"
     ]
    },
    {
     "ename": "Exception",
     "evalue": "Request not optimal, please check CDS forum for more info . Request not optimal, please check CDS forum for more info.",
     "output_type": "error",
     "traceback": [
      "\u001B[1;31m---------------------------------------------------------------------------\u001B[0m",
      "\u001B[1;31mException\u001B[0m                                 Traceback (most recent call last)",
      "Cell \u001B[1;32mIn[1], line 27\u001B[0m\n\u001B[0;32m     25\u001B[0m     \u001B[38;5;66;03m# 通过循环批量下载1979年到2020年所有月份数据\u001B[39;00m\n\u001B[0;32m     26\u001B[0m path \u001B[38;5;241m=\u001B[39m \u001B[38;5;124mr\u001B[39m\u001B[38;5;124m\"\u001B[39m\u001B[38;5;124mC:\u001B[39m\u001B[38;5;124m\\\u001B[39m\u001B[38;5;124mUsers\u001B[39m\u001B[38;5;124m\\\u001B[39m\u001B[38;5;124mRS\u001B[39m\u001B[38;5;124m\\\u001B[39m\u001B[38;5;124mDesktop\u001B[39m\u001B[38;5;124m\\\u001B[39m\u001B[38;5;124mERA5\u001B[39m\u001B[38;5;124m\\\u001B[39m\u001B[38;5;124mchina_2023.nc\u001B[39m\u001B[38;5;124m\"\u001B[39m\n\u001B[1;32m---> 27\u001B[0m r \u001B[38;5;241m=\u001B[39m c\u001B[38;5;241m.\u001B[39mretrieve(\u001B[38;5;124m'\u001B[39m\u001B[38;5;124mreanalysis-era5-single-levels\u001B[39m\u001B[38;5;124m'\u001B[39m, dic, path)\n",
      "File \u001B[1;32m~\\.conda\\envs\\matchedfiltermethod\\Lib\\site-packages\\cdsapi\\api.py:364\u001B[0m, in \u001B[0;36mClient.retrieve\u001B[1;34m(self, name, request, target)\u001B[0m\n\u001B[0;32m    363\u001B[0m \u001B[38;5;28;01mdef\u001B[39;00m \u001B[38;5;21mretrieve\u001B[39m(\u001B[38;5;28mself\u001B[39m, name, request, target\u001B[38;5;241m=\u001B[39m\u001B[38;5;28;01mNone\u001B[39;00m):\n\u001B[1;32m--> 364\u001B[0m     result \u001B[38;5;241m=\u001B[39m \u001B[38;5;28mself\u001B[39m\u001B[38;5;241m.\u001B[39m_api(\u001B[38;5;124m\"\u001B[39m\u001B[38;5;132;01m%s\u001B[39;00m\u001B[38;5;124m/resources/\u001B[39m\u001B[38;5;132;01m%s\u001B[39;00m\u001B[38;5;124m\"\u001B[39m \u001B[38;5;241m%\u001B[39m (\u001B[38;5;28mself\u001B[39m\u001B[38;5;241m.\u001B[39murl, name), request, \u001B[38;5;124m\"\u001B[39m\u001B[38;5;124mPOST\u001B[39m\u001B[38;5;124m\"\u001B[39m)\n\u001B[0;32m    365\u001B[0m     \u001B[38;5;28;01mif\u001B[39;00m target \u001B[38;5;129;01mis\u001B[39;00m \u001B[38;5;129;01mnot\u001B[39;00m \u001B[38;5;28;01mNone\u001B[39;00m:\n\u001B[0;32m    366\u001B[0m         result\u001B[38;5;241m.\u001B[39mdownload(target)\n",
      "File \u001B[1;32m~\\.conda\\envs\\matchedfiltermethod\\Lib\\site-packages\\cdsapi\\api.py:519\u001B[0m, in \u001B[0;36mClient._api\u001B[1;34m(self, url, request, method)\u001B[0m\n\u001B[0;32m    517\u001B[0m             \u001B[38;5;28;01mbreak\u001B[39;00m\n\u001B[0;32m    518\u001B[0m         \u001B[38;5;28mself\u001B[39m\u001B[38;5;241m.\u001B[39merror(\u001B[38;5;124m\"\u001B[39m\u001B[38;5;124m  \u001B[39m\u001B[38;5;132;01m%s\u001B[39;00m\u001B[38;5;124m\"\u001B[39m, n)\n\u001B[1;32m--> 519\u001B[0m     \u001B[38;5;28;01mraise\u001B[39;00m \u001B[38;5;167;01mException\u001B[39;00m(\n\u001B[0;32m    520\u001B[0m         \u001B[38;5;124m\"\u001B[39m\u001B[38;5;132;01m%s\u001B[39;00m\u001B[38;5;124m. \u001B[39m\u001B[38;5;132;01m%s\u001B[39;00m\u001B[38;5;124m.\u001B[39m\u001B[38;5;124m\"\u001B[39m\n\u001B[0;32m    521\u001B[0m         \u001B[38;5;241m%\u001B[39m (reply[\u001B[38;5;124m\"\u001B[39m\u001B[38;5;124merror\u001B[39m\u001B[38;5;124m\"\u001B[39m]\u001B[38;5;241m.\u001B[39mget(\u001B[38;5;124m\"\u001B[39m\u001B[38;5;124mmessage\u001B[39m\u001B[38;5;124m\"\u001B[39m), reply[\u001B[38;5;124m\"\u001B[39m\u001B[38;5;124merror\u001B[39m\u001B[38;5;124m\"\u001B[39m]\u001B[38;5;241m.\u001B[39mget(\u001B[38;5;124m\"\u001B[39m\u001B[38;5;124mreason\u001B[39m\u001B[38;5;124m\"\u001B[39m))\n\u001B[0;32m    522\u001B[0m     )\n\u001B[0;32m    524\u001B[0m \u001B[38;5;28;01mraise\u001B[39;00m \u001B[38;5;167;01mException\u001B[39;00m(\u001B[38;5;124m\"\u001B[39m\u001B[38;5;124mUnknown API state [\u001B[39m\u001B[38;5;132;01m%s\u001B[39;00m\u001B[38;5;124m]\u001B[39m\u001B[38;5;124m\"\u001B[39m \u001B[38;5;241m%\u001B[39m (reply[\u001B[38;5;124m\"\u001B[39m\u001B[38;5;124mstate\u001B[39m\u001B[38;5;124m\"\u001B[39m],))\n",
      "\u001B[1;31mException\u001B[0m: Request not optimal, please check CDS forum for more info . Request not optimal, please check CDS forum for more info."
     ]
    }
   ],
   "source": [
    "import cdsapi\n",
    "\n",
    "c = cdsapi.Client()  # 创建用户\n",
    "dic = {\n",
    "        'product_type': 'reanalysis',\n",
    "        'variable': [\n",
    "            '10m_u_component_of_wind', '10m_v_component_of_wind', # 分别为东西向和南北向的风速分量\n",
    "        ],\n",
    "        'year': '2023',\n",
    "        'month': ['01',\"02\",\"03\",\"04\",\"05\",\"06\",\"07\",\"08\",\"09\",\"10\",\"11\",\"12\"],# 选择全年的数据\n",
    "        'day': ['01','02', \"03\",\"04\",\"05\",\"06\",\"07\",\"08\",\"09\",\"10\",\"11\",\"12\",\"13\",\"14\",\"15\",\n",
    "                \"16\",\"17\",\"18\",\"19\",\"20\",\"21\",\"22\",\"23\",\"24\",\"25\",\"26\",\"27\",\"28\",\"29\",\"30\",\"31\"],# 选择全年的数据\n",
    "        'time': [  '00:00', '01:00', '02:00', \n",
    "                   '03:00', '04:00', '05:00',\n",
    "                    '06:00', '07:00', '08:00',\n",
    "                    '09:00', '10:00', '11:00',\n",
    "                    '12:00', '13:00', '14:00',\n",
    "                    '15:00', '16:00', '17:00',\n",
    "                    '18:00', '19:00', '20:00',\n",
    "                    '21:00', '22:00', '23:00'],# 选择全天的数据\n",
    "        'grid': [0.02, 0.02],\n",
    "        'area': [53,73,18,135],#北纬53°-18°,东经73°-135°，覆盖中国大部分地区\n",
    "        'format': 'netcdf',#选择NetCDF格式\n",
    "        }\n",
    "    # 通过循环批量下载1979年到2020年所有月份数据\n",
    "path = r\"C:\\Users\\RS\\Desktop\\ERA5\\china_2023.nc\"\n",
    "r = c.retrieve('reanalysis-era5-single-levels', dic, path)\n"
   ]
  },
  {
   "cell_type": "code",
   "execution_count": null,
   "outputs": [],
   "source": [],
   "metadata": {
    "collapsed": false
   },
   "id": "c3a37b83032d1eb8"
  },
  {
   "cell_type": "code",
   "execution_count": null,
   "outputs": [],
   "source": [],
   "metadata": {
    "collapsed": false
   },
   "id": "34404258e9956c66"
  },
  {
   "cell_type": "markdown",
   "id": "274900af",
   "metadata": {},
   "source": []
  }
 ],
 "metadata": {
  "kernelspec": {
   "display_name": "Python [conda env:.conda-matchedfiltermethod] *",
   "language": "python",
   "name": "conda-env-.conda-matchedfiltermethod-py"
  },
  "language_info": {
   "codemirror_mode": {
    "name": "ipython",
    "version": 3
   },
   "file_extension": ".py",
   "mimetype": "text/x-python",
   "name": "python",
   "nbconvert_exporter": "python",
   "pygments_lexer": "ipython3",
   "version": "3.11.5"
  }
 },
 "nbformat": 4,
 "nbformat_minor": 5
}
