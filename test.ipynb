{
 "cells": [
  {
   "cell_type": "code",
   "execution_count": 23,
   "id": "c05eb89b",
   "metadata": {
    "ExecuteTime": {
     "end_time": "2024-01-31T06:48:54.245452600Z",
     "start_time": "2024-01-31T06:48:54.212588600Z"
    }
   },
   "outputs": [
    {
     "name": "stdout",
     "output_type": "stream",
     "text": [
      "C:\\Users\\RS\\Desktop\\wavelengths.csv\n"
     ]
    }
   ],
   "source": [
    "import sys\n",
    "import pathlib \n",
    "import math\n",
    "import numpy as np \n",
    "\n",
    "#获取某个文件所在路径的母路径绝对路径\n",
    "filepath = pathlib.Path(\"C:\\\\Users\\\\RS\\\\Desktop\\\\wavelengths.csv\")\n",
    "print(filepath)"
   ]
  },
  {
   "cell_type": "code",
   "execution_count": 18,
   "outputs": [
    {
     "name": "stdout",
     "output_type": "stream",
     "text": [
      "C:\\Users\\RS\\Desktop\\fwhm.csv\n",
      "C:\\Users\\RS\\Desktop\\observation_bands.csv\n",
      "C:\\Users\\RS\\Desktop\\wavelengths.csv\n"
     ]
    }
   ],
   "source": [
    "\n"
   ],
   "metadata": {
    "collapsed": false,
    "ExecuteTime": {
     "end_time": "2024-01-31T06:46:54.518322900Z",
     "start_time": "2024-01-31T06:46:54.487939600Z"
    }
   },
   "id": "c225a4653f926e06"
  },
  {
   "cell_type": "markdown",
   "id": "274900af",
   "metadata": {},
   "source": []
  }
 ],
 "metadata": {
  "kernelspec": {
   "display_name": "Python [conda env:.conda-matchedfiltermethod] *",
   "language": "python",
   "name": "conda-env-.conda-matchedfiltermethod-py"
  },
  "language_info": {
   "codemirror_mode": {
    "name": "ipython",
    "version": 3
   },
   "file_extension": ".py",
   "mimetype": "text/x-python",
   "name": "python",
   "nbconvert_exporter": "python",
   "pygments_lexer": "ipython3",
   "version": "3.11.5"
  }
 },
 "nbformat": 4,
 "nbformat_minor": 5
}
