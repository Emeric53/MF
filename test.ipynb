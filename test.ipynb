{
 "cells": [
  {
   "cell_type": "code",
   "execution_count": 2,
   "id": "c05eb89b",
   "metadata": {
    "ExecuteTime": {
     "end_time": "2024-02-18T02:00:54.406669200Z",
     "start_time": "2024-02-18T02:00:54.396014200Z"
    }
   },
   "outputs": [
    {
     "name": "stdout",
     "output_type": "stream",
     "text": [
      "['EMIT_L1B_RAD_001_20220810T064957_2222205_033_enhancement.tif', 'EMIT_L1B_RAD_001_20220810T065021_2222205_035_enhancement.tif', 'EMIT_L1B_RAD_001_20220810T065132_2222205_041_enhancement.tif', 'EMIT_L1B_RAD_001_20220811T042630_2222303_010_Enhancement.tif', 'EMIT_L1B_RAD_001_20220814T051412_2222604_005_Enhancement.tif', 'EMIT_L1B_RAD_001_20220815T042826_2222703_002_Enhancement.tif', 'EMIT_L1B_RAD_001_20220815T042838_2222703_003_Enhancement.tif', 'EMIT_L1B_RAD_001_20220815T074645_2222705_007_Enhancement.tif', 'EMIT_L1B_RAD_001_20220815T140823_2222709_006_Enhancement.tif', 'EMIT_L1B_RAD_001_20220816T034409_2222803_012_Enhancement.tif', 'EMIT_L1B_RAD_001_20220816T101035_2222807_012_Enhancement.tif', 'EMIT_L1B_RAD_001_20220816T101058_2222807_014_Enhancement.tif', 'EMIT_L1B_RAD_001_20220816T114505_2222808_004_Enhancement.tif', 'EMIT_L1B_RAD_001_20220817T043235_2222903_018_Enhancement.tif', 'EMIT_L1B_RAD_001_20220817T092038_2222906_011_Enhancement.tif', 'EMIT_L1B_RAD_001_20220818T034231_2223003_002_Enhancement.tif', 'EMIT_L1B_RAD_001_20220818T070105_2223005_022_Enhancement.tif', 'EMIT_L1B_RAD_001_20220818T083506_2223006_021_Enhancement.tif', 'EMIT_L1B_RAD_001_20220818T114440_2223008_004_Enhancement.tif', 'EMIT_L1B_RAD_001_20220819T092231_2223106_016_Enhancement.tif', 'EMIT_L1B_RAD_001_20220819T123047_2223108_005_Enhancement.tif', 'EMIT_L1B_RAD_001_20220820T052804_2223204_012_Enhancement.tif', 'EMIT_L1B_RAD_001_20220820T083324_2223206_013_Enhancement.tif', 'EMIT_L1B_RAD_001_20220822T065713_2223405_010_Enhancement.tif', 'EMIT_L1B_RAD_001_20220822T100653_2223407_004_Enhancement.tif', 'EMIT_L1B_RAD_001_20220823T074504_2223505_021_Enhancement.tif', 'EMIT_L1B_RAD_001_20220826T065435_2223805_007_Enhancement.tif', 'EMIT_L1B_RAD_001_20220826T082915_2223806_003_Enhancement.tif', 'EMIT_L1B_RAD_001_20220826T174642_2223812_024_Enhancement.tif', 'EMIT_L1B_RAD_001_20220827T060730_2223904_011_Enhancement.tif', 'EMIT_L1B_RAD_001_20220827T060753_2223904_013_Enhancement.tif', 'EMIT_L1B_RAD_001_20220827T074030_2223905_003_Enhancement.tif', 'EMIT_L1B_RAD_001_20220827T104927_2223907_012_Enhancement.tif', 'EMIT_L1B_RAD_001_20220828T051853_2224004_002_Enhancement.tif', 'EMIT_L1B_RAD_001_20220828T051905_2224004_003_Enhancement.tif', 'EMIT_L1B_RAD_001_20220828T051917_2224004_004_Enhancement.tif', 'EMIT_L1B_RAD_001_20220828T051929_2224004_005_Enhancement.tif', 'EMIT_L1B_RAD_001_20220828T051941_2224004_006_Enhancement.tif', 'EMIT_L1B_RAD_001_20220828T065300_2224005_003_Enhancement.tif', 'EMIT_L1B_RAD_001_20220828T065324_2224005_005_Enhancement.tif', 'EMIT_L1B_RAD_001_20220828T065550_2224005_015_Enhancement.tif', 'EMIT_L1B_RAD_001_20220828T082847_2224006_007_Enhancement.tif', 'EMIT_L1B_RAD_001_20220829T060627_2224104_004_Enhancement.tif', 'EMIT_L1B_RAD_001_20220829T060913_2224104_016_Enhancement.tif', 'EMIT_L1B_RAD_001_20220829T165553_2224111_002_Enhancement.tif', 'EMIT_L1B_RAD_001_20220830T065244_2224205_005_Enhancement.tif', 'EMIT_L1B_RAD_001_20220831T060702_2224304_007_Enhancement.tif', 'EMIT_L1B_RAD_001_20220901T034318_2224403_002_Enhancement.tif', 'EMIT_L1B_RAD_001_20220901T051709_2224404_005_Enhancement.tif', 'EMIT_L1B_RAD_001_20220901T051720_2224404_006_Enhancement.tif', 'EMIT_L1B_RAD_001_20220901T051920_2224404_008_Enhancement.tif', 'EMIT_L1B_RAD_001_20220901T082525_2224406_014_Enhancement.tif', 'EMIT_L1B_RAD_001_20220903T051924_2224604_013_Enhancement.tif', 'EMIT_L1B_RAD_001_20220903T065242_2224605_015_Enhancement.tif', 'EMIT_L1B_RAD_001_20220903T082537_2224606_015_Enhancement.tif', 'EMIT_L1B_RAD_001_20220909T070254_2225204_016_Enhancement.tif', 'EMIT_L1B_RAD_001_20220909T070306_2225204_017_Enhancement.tif']\n"
     ]
    }
   ],
   "source": [
    "import sys\n",
    "import pathlib as pl\n",
    "import math\n",
    "import numpy as np \n",
    "root = pl.Path(\"F:\\\\EMIT_DATA\\\\result\")\n",
    "output = root.glob('*.tif')\n",
    "outputfile = []\n",
    "for i in output:\n",
    "    outputfile.append(str(i.name))\n",
    "print(outputfile)"
   ]
  },
  {
   "cell_type": "markdown",
   "id": "274900af",
   "metadata": {},
   "source": []
  }
 ],
 "metadata": {
  "kernelspec": {
   "display_name": "Python [conda env:.conda-matchedfiltermethod] *",
   "language": "python",
   "name": "conda-env-.conda-matchedfiltermethod-py"
  },
  "language_info": {
   "codemirror_mode": {
    "name": "ipython",
    "version": 3
   },
   "file_extension": ".py",
   "mimetype": "text/x-python",
   "name": "python",
   "nbconvert_exporter": "python",
   "pygments_lexer": "ipython3",
   "version": "3.11.5"
  }
 },
 "nbformat": 4,
 "nbformat_minor": 5
}
