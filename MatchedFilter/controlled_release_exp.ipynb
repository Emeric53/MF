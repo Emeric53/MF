{
 "cells": [
  {
   "cell_type": "markdown",
   "metadata": {},
   "source": [
    "# 控制释放试验结果对比"
   ]
  },
  {
   "cell_type": "code",
   "execution_count": null,
   "metadata": {},
   "outputs": [],
   "source": [
    "import sys\n",
    "\n",
    "sys.path.append(\"C:\\\\Users\\\\RS\\\\VSCode\\\\matchedfiltermethod\")\n",
    "import MatchedFilter.mf_methods as mfs"
   ]
  },
  {
   "cell_type": "code",
   "execution_count": null,
   "metadata": {},
   "outputs": [],
   "source": [
    "mfs.matched_filter(\n",
    "    data_cube=\"C:\\\\Users\\\\RS\\\\VSCode\\\\matchedfiltermethod\\\\data\\\\data_cube.npy\",\n",
    "    unit_absorption_spectrum=\"C:\\\\Users\\\\RS\\\\VSCode\\\\matchedfiltermethod\\\\data\\\\unit_absorption_spectrum.npy\",\n",
    "    albedoadjust=True,\n",
    "    iterate=True,\n",
    "    sparsity=False,\n",
    ")\n",
    "\n"
   ]
  }
 ],
 "metadata": {
  "kernelspec": {
   "display_name": "matchedfiltermethod",
   "language": "python",
   "name": "python3"
  },
  "language_info": {
   "name": "python",
   "version": "3.11.5"
  }
 },
 "nbformat": 4,
 "nbformat_minor": 2
}
