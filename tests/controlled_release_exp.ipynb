{
 "cells": [
  {
   "cell_type": "markdown",
   "metadata": {},
   "source": [
    "# 控制释放试验 "
   ]
  },
  {
   "cell_type": "code",
   "execution_count": 46,
   "metadata": {},
   "outputs": [],
   "source": [
    "import numpy as np\n",
    "from osgeo import gdal, osr\n",
    "\n",
    "import tempfile\n",
    "import os\n",
    "import sys\n",
    "\n",
    "sys.path.append(\"C:\\\\Users\\\\RS\\\\VSCode\\\\matchedfiltermethod\\\\src\")\n",
    "from algorithms import matched_filter_variants as mfs\n",
    "from algorithms import matched_filter_all as mfa\n",
    "from utils import satellites_data as sd\n",
    "from utils import generate_radiance_lut_and_uas as glut\n",
    "\n",
    "import math\n",
    "\n",
    "\n",
    "# 基于IME算法进行排放量的估算\n",
    "def emission_estimate(plume_array, pixel_resolution, windspeed_10m, slope, intercept, enhancement_unit='ppmm'):\n",
    "    # calculate the area and the length of the plume\n",
    "    nan_count = np.count_nonzero(~np.isnan(plume_array))\n",
    "    pixel_area = math.pow(pixel_resolution, 2)\n",
    "    plume_area = nan_count * pixel_area\n",
    "    plume_length = math.sqrt(plume_area)\n",
    "    # get the values of the plume\n",
    "    plume_values = [value for value in plume_array.flatten() if value != -9999]\n",
    "    if enhancement_unit == 'ppmm':\n",
    "        # convert the unit from  ppm*m to kg/ppm*m, then calculate the integrated mass enhancement\n",
    "        integrated_mass_enhancement = sum(plume_values) * 0.716 * 0.000001 * pixel_area\n",
    "    elif enhancement_unit == 'ppm':\n",
    "        # convert the unit from  ppm*m to kg/ppm by setting 8km as the scale of troposphere,\n",
    "        # then calculate the integrated mass enhancement\n",
    "        integrated_mass_enhancement = sum(plume_values) * 0.716 * 0.000001 * pixel_area * 8000\n",
    "    else:\n",
    "        print(\"The unit of the enhancement is not supported, please enter 'ppmm' or 'ppm'.\")\n",
    "    # calculate the effective windspeed with the formula\n",
    "    effective_windspeed = slope * windspeed_10m + intercept\n",
    "    # calculate the emission rate of the plume in the unit of kg/h\n",
    "    emission_rate = (effective_windspeed * 3600 * integrated_mass_enhancement) / plume_length\n",
    "    return emission_rate\n"
   ]
  },
  {
   "cell_type": "markdown",
   "metadata": {},
   "source": [
    "# PRISMA 数据\n"
   ]
  },
  {
   "cell_type": "code",
   "execution_count": 45,
   "metadata": {},
   "outputs": [
    {
     "name": "stdout",
     "output_type": "stream",
     "text": [
      "处理文件时出错: 'NoneType' object has no attribute 'SetGeoTransform'\n",
      "117168.96582826281\n"
     ]
    }
   ],
   "source": [
    "def PRISMA_test():\n",
    "    filepath = \"I:\\stanford_campaign\\PRISMA\\PRS_L1_STD_OFFL_20221027182300_20221027182304_0001.he5\"\n",
    "    # filepath = \"I:\\stanford_campaign\\PRISMA\\PRS_L1_STD_OFFL_20221130180952_20221130180956_0001.he5\"\n",
    "    _,radiance_cube = sd.PRISMA_data.get_prisma_bands_array(filepath,2150,2500)\n",
    "    sza,altitude = sd.PRISMA_data.get_prisma_SZA_altitude(filepath)\n",
    "    if altitude > 5:\n",
    "        altitude = 5\n",
    "    _,uas = glut.generate_satellite_uas_for_specific_range_from_lut(\"PRISMA\",0,30000,2150,2500,sza,altitude)\n",
    "\n",
    "\n",
    "    # 原始匹配滤波算法结果测试\n",
    "    # methane_enhancement = mfa.matched_filter(radiance_cube,uas, True, True)\n",
    "    methane_enhancement = mfs.columnwise_matched_filter(radiance_cube,uas,True,True)\n",
    "    # 多层匹配滤波算法结果测试\n",
    "    # methane_enhancement = mfa.ml_matched_filter(radiance_cube,uas,True,True)\n",
    "    # methane_enhancement = mfs.ml_matched_filter_new(radiance_cube,uas, True)\n",
    "\n",
    "    # output = \"I:\\stanford_campaign\\PRISMA\\mf_PRS_L1_STD_OFFL_20221015181614_20221015181618_0001.tif\"\n",
    "    # output = \"I:\\stanford_campaign\\PRISMA\\mlmf_PRS_L1_STD_OFFL_20221015181614_20221015181618_0001.tif\"\n",
    "    \n",
    "    output = \"I:\\stanford_campaign\\PRISMA\\stanford_campaign\\PRISMA\\PRS_L1_STD_OFFL_20221027182300_20221027182304_0001_cwmf.tif\"\n",
    "    # output = \"I:\\stanford_campaign\\PRISMA\\PRS_L1_STD_OFFL_20221130180952_20221130180956_0001_mf.tif\"\n",
    "    sd.PRISMA_data.location_calibration(methane_enhancement,filepath,output)\n",
    "    return methane_enhancement\n",
    "\n",
    "result = PRISMA_test()\n",
    "print(result.max())"
   ]
  },
  {
   "cell_type": "code",
   "execution_count": null,
   "metadata": {},
   "outputs": [],
   "source": [
    "# 量化排放\n",
    "plume_path = r\"C:\\Users\\RS\\Desktop\\plumes\\gf5_mf.tif\"\n",
    "plume_data = sd.general_functions.read_tiff_in_numpy(plume_path)\n",
    "plume_data[plume_data == -3.4028231e+38] = np.nan\n",
    "print(np.nanmax(plume_data))\n",
    "fluxrate = emission_estimate(plume_data[plume_data >0],30,2.1274,1,0,\"ppmm\")\n",
    "print(fluxrate/1000/8)"
   ]
  },
  {
   "cell_type": "markdown",
   "metadata": {},
   "source": [
    "# AHSI 数据"
   ]
  },
  {
   "cell_type": "code",
   "execution_count": 35,
   "metadata": {},
   "outputs": [
    {
     "name": "stdout",
     "output_type": "stream",
     "text": [
      "SZA: 52.831959\n",
      "No significant plume detected.\n",
      "Iteration 0: Converged with std change 14.38914742624172.\n"
     ]
    }
   ],
   "source": [
    "def AHSI_test():\n",
    "    filepath = \"I:\\stanford_campaign\\Stanford_Campaign_GF5-02-AHSI\\GF5B_AHSI_W112.1_N32.8_20221115_006332_L10000239663_VNSW_Rad.dat\"\n",
    "    _,radiance_cube = sd.AHSI_data.get_AHSI_radiances_from_dat(filepath,2150,2500)\n",
    "    sza,altitude = sd.AHSI_data.get_sza_altitude(filepath)\n",
    "    if altitude > 5:\n",
    "        altitude = 5\n",
    "    _,uas = glut.generate_satellite_uas_for_specific_range_from_lut(\"AHSI\",0,50000,2150,2500,sza,altitude)\n",
    "\n",
    "    # 原始匹配滤波算法结果测试\n",
    "    # methane_enhancement = mfa.matched_filter(radiance_cube,uas, True, True)\n",
    "    # 多层匹配滤波算法结果测试\n",
    "    # methane_enhancement = mfs.ml_matched_filter_new(radiance_cube,uas, True)\n",
    "    methane_enhancement = mfa.ml_matched_filter(radiance_cube,uas, True,True)\n",
    "    \n",
    "    # np.save(\"methane_enhancement.npy\",methane_enhancement)\n",
    "    \n",
    "    # 假设 result_array 是处理后的结果数组\n",
    "    result_array = methane_enhancement\n",
    "\n",
    "    # 打开原始影像文件\n",
    "    original_dataset = gdal.Open(filepath)\n",
    "\n",
    "    rpc_info = original_dataset.GetMetadata(\"RPC\")\n",
    "\n",
    "    # 创建一个临时文件来存储结果数组\n",
    "    temp_file = tempfile.NamedTemporaryFile(suffix=\".tif\").name\n",
    "    driver = gdal.GetDriverByName(\"GTiff\")\n",
    "    output_dataset = driver.Create(temp_file, result_array.shape[1], result_array.shape[0], 1, gdal.GDT_Float32)\n",
    "\n",
    "    # 将结果数组写入临时影像\n",
    "    output_band = output_dataset.GetRasterBand(1)\n",
    "    output_band.WriteArray(result_array)\n",
    "    output_band.FlushCache()\n",
    "\n",
    "    # 设置临时影像的地理信息\n",
    "    output_dataset.SetProjection(original_dataset.GetProjection())\n",
    "    output_dataset.SetGeoTransform(original_dataset.GetGeoTransform())\n",
    "\n",
    "    # 将RPC信息写入临时文件的元数据\n",
    "    output_dataset.SetMetadata(rpc_info, \"RPC\")\n",
    "\n",
    "    # 关闭并保存临时影像文件\n",
    "    output_dataset = None\n",
    "\n",
    "    # 使用 WarpOptions 并从临时文件路径进行校正\n",
    "    corrected_file = r\"I:\\stanford_campaign\\Stanford_Campaign_GF5-02-AHSI\\GF5B_AHSI_W112.1_N32.8_20221115_006332_L10000239663_VNSW_Rad_mlmf.tif\"\n",
    "    warp_options = gdal.WarpOptions(rpc=True)\n",
    "    gdal.Warp(corrected_file, temp_file, options=warp_options)\n",
    "\n",
    "    return methane_enhancement\n",
    "\n",
    "# 获取反演结果\n",
    "methane_enhancement = AHSI_test()\n",
    "\n"
   ]
  },
  {
   "cell_type": "code",
   "execution_count": 54,
   "metadata": {},
   "outputs": [
    {
     "name": "stdout",
     "output_type": "stream",
     "text": [
      "16191.056\n",
      "0.4299618684004504\n"
     ]
    }
   ],
   "source": [
    "\n",
    "# 量化排放速率\n",
    "\n",
    "plume_path = r\"C:\\Users\\RS\\Desktop\\plumes\\gf5_mf.tif\"\n",
    "plume_data = sd.general_functions.read_tiff_in_numpy(plume_path)\n",
    "plume_data[plume_data == -3.4028231e+38] = np.nan\n",
    "print(np.nanmax(plume_data))\n",
    "fluxrate = emission_estimate(plume_data[plume_data >0],30,0.8656,1,0,\"ppmm\")\n",
    "print(fluxrate/1000/8)\n"
   ]
  },
  {
   "cell_type": "markdown",
   "metadata": {},
   "source": [
    "# EnMAP数据"
   ]
  },
  {
   "cell_type": "code",
   "execution_count": 48,
   "metadata": {},
   "outputs": [
    {
     "name": "stdout",
     "output_type": "stream",
     "text": [
      "中心点太阳高度角: 37.826602 度\n",
      "File saved successfully at I:\\stanford_campaign\\EnMAP\\dims_op_oc_oc-en_701862725_1\\ENMAP.HSI.L1B\\ENMAP01-____L1B-DT0000005368_20221116T184050Z_005_V010501_20241017T042058Z\\1cwmf_ENMAP01-____L1B-DT0000005368_20221116T184050Z_005_V010501_20241017T042058Z-SPECTRAL_IMAGE_SWIR.TIF\n"
     ]
    }
   ],
   "source": [
    "# ! 需要修改\n",
    "def EnMAP_test():\n",
    "    # filepath = r\"I:\\stanford_campaign\\EnMAP\\dims_op_oc_oc-en_701862725_1\\ENMAP.HSI.L1B\\ENMAP01-____L1B-DT0000005368_20221116T184050Z_005_V010501_20241017T040610Z\\ENMAP01-____L1B-DT0000005368_20221116T184050Z_005_V010501_20241017T040610Z-SPECTRAL_IMAGE_SWIR.TIF\"\n",
    "    # filepath = r\"I:\\stanford_campaign\\EnMAP\\dims_op_oc_oc-en_701862725_1\\ENMAP.HSI.L1B\\ENMAP01-____L1B-DT0000005368_20221116T184050Z_005_V010501_20241017T042058Z\\ENMAP01-____L1B-DT0000005368_20221116T184050Z_005_V010501_20241017T042058Z-SPECTRAL_IMAGE_SWIR.TIF\"\n",
    "    filepath = r\"I:\\stanford_campaign\\EnMAP\\dims_op_oc_oc-en_701862725_1\\ENMAP.HSI.L1B\\ENMAP01-____L1B-DT0000005368_20221116T184050Z_005_V010501_20241017T042058Z\\ENMAP01-____L1B-DT0000005368_20221116T184050Z_005_V010501_20241017T042058Z-SPECTRAL_IMAGE_SWIR.TIF\"\n",
    "    _,radiance_cube = sd.EnMAP_data.get_enmap_bands_array(filepath,2150,2500)\n",
    "    sza = sd.EnMAP_data.get_center_sun_elevation(filepath.replace(\"SPECTRAL_IMAGE_SWIR.TIF\", \"METADATA.XML\"))\n",
    "    altitude = 0\n",
    "    if altitude > 5:\n",
    "        altitude = 5\n",
    "    _,uas = glut.generate_satellite_uas_for_specific_range_from_lut(\"EnMAP\",0,50000,2150,2500,sza,altitude)\n",
    "\n",
    "    # 原始匹配滤波算法结果测试\n",
    "    # methane_enhancement = mfa.matched_filter(radiance_cube,uas, True, True)\n",
    "    methane_enhancement = mfs.columnwise_matched_filter(radiance_cube,uas, True, True)\n",
    "    # 多层匹配滤波算法结果测试\n",
    "    # methane_enhancement_mlmf = mfs.ml_matched_filter_new(radiance_cube,uas, True)\n",
    "    \n",
    "    output_folder = os.path.dirname(filepath)\n",
    "    filename = os.path.basename(filepath)\n",
    "    vnir =  r\"I:\\stanford_campaign\\EnMAP\\dims_op_oc_oc-en_701862725_1\\ENMAP.HSI.L1B\\ENMAP01-____L1B-DT0000005368_20221116T184050Z_005_V010501_20241017T042058Z\\ENMAP01-____L1B-DT0000005368_20221116T184050Z_005_V010501_20241017T042058Z-SPECTRAL_IMAGE_VNIR.TIF\"\n",
    "   \n",
    "    sd.EnMAP_data.export_enmap_array_to_tiff(methane_enhancement,filepath,output_folder,\"1cwmf_\" + filename)\n",
    "    \n",
    "    return methane_enhancement\n",
    "\n",
    "result = EnMAP_test()"
   ]
  },
  {
   "cell_type": "code",
   "execution_count": 52,
   "metadata": {},
   "outputs": [
    {
     "name": "stdout",
     "output_type": "stream",
     "text": [
      "6628.8105\n",
      "0.17409089445938705\n"
     ]
    }
   ],
   "source": [
    "# 量化排放\n",
    "plume_path = r\"C:\\Users\\RS\\Desktop\\plumes\\enmap_mf.tif\"\n",
    "plume_data = sd.general_functions.read_tiff_in_numpy(plume_path)\n",
    "plume_data[plume_data == -3.4028231e+38] = np.nan\n",
    "print(np.nanmax(plume_data))\n",
    "fluxrate = emission_estimate(plume_data[plume_data >0],30,1,1,0,\"ppmm\")\n",
    "print(fluxrate/8000)\n"
   ]
  },
  {
   "cell_type": "markdown",
   "metadata": {},
   "source": [
    "# ZY1 数据"
   ]
  },
  {
   "cell_type": "code",
   "execution_count": 2,
   "metadata": {},
   "outputs": [
    {
     "name": "stdout",
     "output_type": "stream",
     "text": [
      "SZA: 46.971901\n"
     ]
    },
    {
     "data": {
      "text/plain": [
       "<osgeo.gdal.Dataset; proxy of <Swig Object of type 'GDALDatasetShadow *' at 0x000002D31DBE71E0> >"
      ]
     },
     "execution_count": 2,
     "metadata": {},
     "output_type": "execute_result"
    }
   ],
   "source": [
    "def ZY1_test():\n",
    "    filepath = \"I:\\stanford_campaign\\Stanford_Campaign_ZY1-02E-AHSI\\ZY1F_AHSI_W111.72_N33.06_20221026_004370_L1A0000265656_VNSW_Rad.dat\"\n",
    "    # \"I:\\stanford_campaign\\Stanford_Campaign_ZY1-02E-AHSI\\ZY1F_AHSI_W111.74_N33.06_20221023_004327_L1A0000261518_VNSW_Rad.dat\"\n",
    "    # \"I:\\stanford_campaign\\Stanford_Campaign_ZY1-02E-AHSI\\ZY1F_AHSI_W111.85_N32.62_20221020_004284_L1A0000258234_VNSW_Rad.dat\"\n",
    "    _,radiance_cube = sd.ZY1_data.get_AHSI_radiances_from_dat(filepath,2150,2500)\n",
    "    sza,altitude = sd.ZY1_data.get_sza_altitude(filepath)\n",
    "    if altitude > 5:\n",
    "        altitude = 5\n",
    "    _,uas = glut.generate_satellite_uas_for_specific_range_from_lut(\"ZY1\",0,50000,2150,2500,sza,altitude)\n",
    "\n",
    "    # 原始匹配滤波算法结果测试\n",
    "    methane_enhancement = mfa.matched_filter(radiance_cube,uas, True, True)\n",
    "    # 多层匹配滤波算法结果测试\n",
    "    # methane_enhancement_mlmf = mfs.ml_matched_filter_new(radiance_cube,uas, True)\n",
    "    \n",
    "    # np.save(\"methane_enhancement.npy\",methane_enhancement)\n",
    "    # 假设 result_array 是处理后的结果数组\n",
    "    result_array = methane_enhancement\n",
    "\n",
    "    # 打开原始影像文件\n",
    "    original_dataset = gdal.Open(filepath)\n",
    "\n",
    "    rpc_info = original_dataset.GetMetadata(\"RPC\")\n",
    "\n",
    "    # 创建一个临时文件来存储结果数组\n",
    "    temp_file = tempfile.NamedTemporaryFile(suffix=\".tif\").name\n",
    "    driver = gdal.GetDriverByName(\"GTiff\")\n",
    "    output_dataset = driver.Create(temp_file, result_array.shape[1], result_array.shape[0], 1, gdal.GDT_Float32)\n",
    "\n",
    "    # 将结果数组写入临时影像\n",
    "    output_band = output_dataset.GetRasterBand(1)\n",
    "    output_band.WriteArray(result_array)\n",
    "    output_band.FlushCache()\n",
    "\n",
    "    # 设置临时影像的地理信息\n",
    "    output_dataset.SetProjection(original_dataset.GetProjection())\n",
    "    output_dataset.SetGeoTransform(original_dataset.GetGeoTransform())\n",
    "\n",
    "    # 将RPC信息写入临时文件的元数据\n",
    "    output_dataset.SetMetadata(rpc_info, \"RPC\")\n",
    "\n",
    "    # 关闭并保存临时影像文件\n",
    "    output_dataset = None\n",
    "\n",
    "    # 使用 WarpOptions 并从临时文件路径进行校正\n",
    "    corrected_file = r\"I:\\stanford_campaign\\Stanford_Campaign_ZY1-02E-AHSI\\ZY1F_AHSI_W111.72_N33.06_20221026_004370_L1A0000265656_VNSW_Rad_mf.tif\"\n",
    "    warp_options = gdal.WarpOptions(rpc=True)\n",
    "    gdal.Warp(corrected_file, temp_file, options=warp_options)\n",
    "    return methane_enhancement\n",
    "\n",
    "methane_enhancement = ZY1_test()\n",
    "\n"
   ]
  },
  {
   "cell_type": "code",
   "execution_count": 40,
   "metadata": {},
   "outputs": [
    {
     "name": "stdout",
     "output_type": "stream",
     "text": [
      "6475.968\n",
      "0.45889248736911\n"
     ]
    }
   ],
   "source": [
    "# 量化排放\n",
    "plume_path = r\"C:\\Users\\RS\\Desktop\\plumes\\zy1_mf.tif\"\n",
    "plume_data = sd.general_functions.read_tiff_in_numpy(plume_path)\n",
    "print(np.nanmax(plume_data))\n",
    "fluxrate = emission_estimate(plume_data[plume_data >0],30,2.3443,1,0,\"ppmm\")\n",
    "print(fluxrate/8000)"
   ]
  }
 ],
 "metadata": {
  "kernelspec": {
   "display_name": "matchedfiltermethod",
   "language": "python",
   "name": "python3"
  },
  "language_info": {
   "codemirror_mode": {
    "name": "ipython",
    "version": 3
   },
   "file_extension": ".py",
   "mimetype": "text/x-python",
   "name": "python",
   "nbconvert_exporter": "python",
   "pygments_lexer": "ipython3",
   "version": "3.11.5"
  }
 },
 "nbformat": 4,
 "nbformat_minor": 2
}
