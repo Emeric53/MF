{
 "cells": [
  {
   "cell_type": "markdown",
   "metadata": {},
   "source": [
    "# 控制释放试验 "
   ]
  },
  {
   "cell_type": "code",
   "execution_count": null,
   "metadata": {},
   "outputs": [],
   "source": [
    "import numpy as np\n",
    "\n",
    "import sys\n",
    "\n",
    "sys.path.append(\"C:\\\\Users\\\\RS\\\\VSCode\\\\matchedfiltermethod\\\\src\")\n",
    "from algorithms import matchedfilter_methods as mfm"
   ]
  },
  {
   "cell_type": "markdown",
   "metadata": {},
   "source": [
    "# PRISMA 数据\n"
   ]
  },
  {
   "cell_type": "code",
   "execution_count": null,
   "metadata": {},
   "outputs": [],
   "source": [
    "prisma_data_filepath = \"\"\n",
    "unit_absorption_spectrum_filepath = \"\"\n",
    "\n",
    "# 读取 prisma 数据\n",
    "prisma_datacube = np.load(prisma_data_filepath)\n",
    "\n",
    "# 读取单位吸收光谱\n",
    "unit_absorption_spectrum = np.load(unit_absorption_spectrum_filepath)\n",
    "\n",
    "\n",
    "result = mfm.matched_filter(prisma_datacube, unit_absorption_spectrum,False,False,False)"
   ]
  }
 ],
 "metadata": {
  "kernelspec": {
   "display_name": "matchedfiltermethod",
   "language": "python",
   "name": "python3"
  },
  "language_info": {
   "name": "python",
   "version": "3.11.5"
  }
 },
 "nbformat": 4,
 "nbformat_minor": 2
}
