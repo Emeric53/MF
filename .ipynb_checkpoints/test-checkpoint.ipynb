{
 "cells": [
  {
   "cell_type": "code",
   "execution_count": null,
   "id": "9b5bd95b",
   "metadata": {},
   "outputs": [],
   "source": [
    "import sys\n",
    "import pathlib \n",
    "import math"
   ]
  },
  {
   "cell_type": "markdown",
   "id": "c8f0d88b",
   "metadata": {},
   "source": [
    "\n"
   ]
  }
 ],
 "metadata": {
  "kernelspec": {
   "display_name": "Python [conda env:.conda-matchedfiltermethod] *",
   "language": "python",
   "name": "conda-env-.conda-matchedfiltermethod-py"
  },
  "language_info": {
   "codemirror_mode": {
    "name": "ipython",
    "version": 3
   },
   "file_extension": ".py",
   "mimetype": "text/x-python",
   "name": "python",
   "nbconvert_exporter": "python",
   "pygments_lexer": "ipython3",
   "version": "3.11.5"
  }
 },
 "nbformat": 4,
 "nbformat_minor": 5
}
